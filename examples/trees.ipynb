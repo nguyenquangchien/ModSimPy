{
 "cells": [
  {
   "cell_type": "markdown",
   "metadata": {},
   "source": [
    "# Bài toán cây xanh"
   ]
  },
  {
   "cell_type": "markdown",
   "metadata": {},
   "source": [
    "*Mô hình hoá và mô phỏng bằng Python*\n",
    "\n",
    "Bản quyền 2021 Allen Downey\n",
    "\n",
    "Giấy phép: [Creative Commons Attribution-NonCommercial-ShareAlike 4.0 International](https://creativecommons.org/licenses/by-nc-sa/4.0/)"
   ]
  },
  {
   "cell_type": "code",
   "execution_count": 1,
   "metadata": {
    "tags": []
   },
   "outputs": [],
   "source": [
    "# cài đặt Pint nếu cần\n",
    "\n",
    "try:\n",
    "    import pint\n",
    "except ImportError:\n",
    "    !pip install pint"
   ]
  },
  {
   "cell_type": "code",
   "execution_count": 2,
   "metadata": {
    "tags": []
   },
   "outputs": [],
   "source": [
    "# tải về modsim.py nếu cần\n",
    "\n",
    "from os.path import exists\n",
    "\n",
    "filename = 'modsim.py'\n",
    "if not exists(filename):\n",
    "    from urllib.request import urlretrieve\n",
    "    url = 'https://raw.githubusercontent.com/AllenDowney/ModSim/main/'\n",
    "    local, _ = urlretrieve(url+filename, filename)\n",
    "    print('Downloaded ' + local)"
   ]
  },
  {
   "cell_type": "code",
   "execution_count": 3,
   "metadata": {
    "tags": []
   },
   "outputs": [],
   "source": [
    "# nhập các hàm từ modsim\n",
    "\n",
    "from modsim import *"
   ]
  },
  {
   "cell_type": "markdown",
   "metadata": {},
   "source": [
    "## Mô hình hóa sự tăng trưởng của cây xanh\n",
    "\n",
    "Nghiên cứu cụ thể này được dựa theo \"[Height-Age Curves for Planted Stands of Douglas Fir, with Adjustments for Density](http://www.cfr.washington.edu/research.smc/working_papers/smc_working_paper_1.pdf)\" (tạm dịch: các đường cong biểu hiện chiều cao-tuổi cây thông Douglas được gieo trồng, có điều chỉnh theo mật độ cây), một bài báo của nhóm tác giả Flewelling, Collier, Gonyea, Marshall, và Turnblom.\n",
    "\n",
    "Bài báo cho ta các \"đường cong chỉ số theo địa điểm\", đây là những đường cong đồ thị biểu diên chiều cao ước tính của cây cao nhất trong một hàng cây thông Douglas như một hàm tuổi cây, đối với hàng trồng các cây cùng tuổi.\n",
    "\n",
    "Tùy thuộc vào chất lượng của hàng ở từng địa điểm, cây có thể mọc nhanh hơn hoặc chậm hơn. Như vậy, mỗi đường đồ thị được nhận diện bởi một \"chỉ số địa điểm\" vốn phản ánh chất lượng của địa điểm này.\n",
    "\n",
    "Tôi sẽ bắt đầu với vài số liệu của họ trong Bảng 1. Dưới đây là dãy các tuổi cây."
   ]
  },
  {
   "cell_type": "code",
   "execution_count": 4,
   "metadata": {},
   "outputs": [],
   "source": [
    "years = [2, 3, 4, 5, 6, 8, 10, 15, 20, 25, 30,\n",
    "         35, 40, 45, 50, 55, 60, 65, 70]"
   ]
  },
  {
   "cell_type": "markdown",
   "metadata": {},
   "source": [
    "Và đây là một dãy các chiều cao cây ở địa điểm có chỉ số 45, điều này cho thấy chiều cao ở tuổi cây 30 năm là 45 feet."
   ]
  },
  {
   "cell_type": "code",
   "execution_count": 5,
   "metadata": {},
   "outputs": [],
   "source": [
    "site45 = TimeSeries([1.4, 1.49, 1.75, 2.18, 2.78, 4.45, 6.74,\n",
    "                    14.86, 25.39, 35.60, 45.00, 53.65, 61.60,\n",
    "                    68.92, 75.66, 81.85, 87.56, 92.8, 97.63],\n",
    "                    index=years)"
   ]
  },
  {
   "cell_type": "markdown",
   "metadata": {},
   "source": [
    "Đây là dãy số liệu ở địa điểm có chỉ số 65."
   ]
  },
  {
   "cell_type": "code",
   "execution_count": 6,
   "metadata": {},
   "outputs": [],
   "source": [
    "site65 = TimeSeries([1.4, 1.56, 2.01, 2.76, 3.79, 6.64, 10.44, \n",
    "                    23.26, 37.65, 51.66, 65.00, 77.50, 89.07, \n",
    "                    99.66, 109.28, 117.96, 125.74, 132.68, 138.84],\n",
    "                    index=years)"
   ]
  },
  {
   "cell_type": "markdown",
   "metadata": {},
   "source": [
    "Và ở địa điểm có chỉ số 85."
   ]
  },
  {
   "cell_type": "code",
   "execution_count": 7,
   "metadata": {},
   "outputs": [],
   "source": [
    "site85 = TimeSeries([1.4, 1.8, 2.71, 4.09, 5.92, 10.73, 16.81, \n",
    "                 34.03, 51.26, 68.54, 85, 100.34, 114.33,\n",
    "                 126.91, 138.06, 147.86, 156.39, 163.76, 170.10],\n",
    "               index=years)"
   ]
  },
  {
   "cell_type": "markdown",
   "metadata": {},
   "source": [
    "Các đường cong sẽ có hình dạng như dưới đây:"
   ]
  },
  {
   "cell_type": "code",
   "execution_count": 8,
   "metadata": {},
   "outputs": [],
   "source": [
    "site85.plot(label='SI 85')\n",
    "site65.plot(label='SI 65')\n",
    "site45.plot(label='SI 45')\n",
    "decorate(xlabel='Time (years)',\n",
    "         ylabel='Height (feet)')"
   ]
  },
  {
   "cell_type": "markdown",
   "metadata": {},
   "source": [
    "Tôi chỉ làm ví dụ với dữ liệu chỉ số (SI) là 65. Bạn có thể tập chạy lại sổ tính notebook này cho các đường cong khác."
   ]
  },
  {
   "cell_type": "code",
   "execution_count": 9,
   "metadata": {},
   "outputs": [],
   "source": [
    "data = site65"
   ]
  },
  {
   "cell_type": "markdown",
   "metadata": {},
   "source": [
    "## Mô hình 1\n",
    "\n",
    "Để bắt đầu, ta hãy giả sử rằng khả năng cây trồng tăng trọng thì bị hạn chế bởi diện tích nó phơi ra ngoài ánh mặt trời, còn tốc độ tăng trưởng (về khối lượng) thì tỉ lệ thuận với diện tích đó. Như vậy, ta có thể viết:\n",
    "\n",
    "$$ m_{n+1} = m_n + \\alpha A$$\n",
    "\n",
    "trong đó $m_n$ là khối lượng cây tại bước thời gian $n$, $A$ là diện tích phơi nắng, còn $\\alpha$ là một hệ số sinh trưởng mà ta chưa biết.\n",
    "\n",
    "Để đi từ $m$ đến $A$, tôi sẽ giả sử thêm rằng khối lượng thì tỉ lệ với chiều cao lũy thừa một số mũ chưa biết khác:\n",
    "\n",
    "$$ m = \\beta h^D $$\n",
    "\n",
    "trong đó $h$ là chiều cao, $\beta$ là một hằng số tỉ lệ chưa biết, và $D$ là đại lượng liên hệ giữa chiều cao và khối lượng. Để bắt đầu, tôi sẽ giả sử $D=3$, và sẽ còn kiểm tra lại giả sử này sau.\n",
    "\n",
    "Cuối cùng, tôi sẽ giả sử rằng diện tích thì tỉ lệ với bình phương của chiều cao:\n",
    "\n",
    "$$ A = \\gamma h^2$$\n",
    "\n",
    "Tôi tính chiều cao theo feet, và chọn các đơn vị cho khối lượng và diện tích sao cho $\\beta=1$ và $\\gamma=1$.\n",
    "\n",
    "Tổng hợp mọi thứ lại, ta có thể viết được một phương trình sai phân cho chiều cao:\n",
    "\n",
    "$$ h_{n+1}^D = h_n^D + \\alpha h_n^2 $$\n",
    "\n",
    "Bây giờ ta hãy mô phỏng hệ thống này. Sau đây là một đối tượng hệ thống cùng các tham số và điều kiện đầu."
   ]
  },
  {
   "cell_type": "code",
   "execution_count": 10,
   "metadata": {},
   "outputs": [],
   "source": [
    "alpha = 7\n",
    "dim = 3\n",
    "\n",
    "t_0 = data.index[0]\n",
    "h_0 = data[t_0]\n",
    "t_end = data.index[-1]\n",
    "\n",
    "system = System(alpha=alpha, \n",
    "                dim=dim, \n",
    "                h_0=h_0, \n",
    "                t_0=t_0, \n",
    "                t_end=t_end)"
   ]
  },
  {
   "cell_type": "markdown",
   "metadata": {},
   "source": [
    "Và sau đây là một hàm cập nhật. Hàm này nhận vào tham số là chiều cao hiện thời và trả lại chiều cao tại bước thời gian kế tiếp."
   ]
  },
  {
   "cell_type": "code",
   "execution_count": 11,
   "metadata": {},
   "outputs": [],
   "source": [
    "def update(height, t, system):\n",
    "    \"\"\"Cập nhật chiều cao dựa theo mô hình cấp số nhân.\n",
    "    \n",
    "    height: chiều cao hiện thời tính bằng feet\n",
    "    t: năm tính toán\n",
    "    system: đối tượng hệ thống cùng với tham số mô hình\n",
    "    \"\"\"\n",
    "    area = height**2\n",
    "    mass = height**system.dim\n",
    "    mass += system.alpha * area\n",
    "    return mass**(1/system.dim)"
   ]
  },
  {
   "cell_type": "markdown",
   "metadata": {},
   "source": [
    "Tôi sẽ thử hàm cập nhật với các điều kiện ban đầu."
   ]
  },
  {
   "cell_type": "code",
   "execution_count": 12,
   "metadata": {},
   "outputs": [],
   "source": [
    "update(h_0, t_0, system)"
   ]
  },
  {
   "cell_type": "markdown",
   "metadata": {},
   "source": [
    "Đây là phiên bản `run_simulation` thông thường của ta."
   ]
  },
  {
   "cell_type": "code",
   "execution_count": 13,
   "metadata": {},
   "outputs": [],
   "source": [
    "def run_simulation(system, update_func):\n",
    "    \"\"\"Mộ phỏng hệ thống bằng một hàm cập nhật bất kì.\n",
    "    \n",
    "    system: đối tượng hệ thống System\n",
    "    update_func: hàm cập nhật, để tính số cá thể trong năm tới\n",
    "    \n",
    "    trả lại: TimeSeries\n",
    "    \"\"\"\n",
    "    results = TimeSeries()\n",
    "    results[system.t_0] = system.h_0\n",
    "    \n",
    "    for t in linrange(system.t_0, system.t_end-1):\n",
    "        results[t+1] = update_func(results[t], t, system)\n",
    "        \n",
    "    return results"
   ]
  },
  {
   "cell_type": "markdown",
   "metadata": {},
   "source": [
    "Và sau đây là cách ta chạy nó."
   ]
  },
  {
   "cell_type": "code",
   "execution_count": 14,
   "metadata": {},
   "outputs": [],
   "source": [
    "results = run_simulation(system, update)\n",
    "results.tail()"
   ]
  },
  {
   "cell_type": "markdown",
   "metadata": {},
   "source": [
    "Và kết quả sẽ trông như sau:"
   ]
  },
  {
   "cell_type": "code",
   "execution_count": 15,
   "metadata": {},
   "outputs": [],
   "source": [
    "def plot_results(results, data):\n",
    "    results.plot(style=':', label='model', color='gray')\n",
    "    data.plot(label='data')\n",
    "    decorate(xlabel='Time (years)',\n",
    "             ylabel='Height (feet)')\n",
    "    \n",
    "plot_results(results, data)"
   ]
  },
  {
   "cell_type": "markdown",
   "metadata": {},
   "source": [
    "Mô hình đã hội tụ về một đường thẳng.\n",
    "\n",
    "Tôi đã chọn giá trị của `alpha` sao cho càng khớp điểm số liệu bao nhiêu thì tốt bấy nhiêu, nhưng rõ ràng ở số liệu có độ cong mà mô hình không bắt được.\n",
    "\n",
    "Đây là những sai số, tức là khác biệt giữa mô hình cây và dữ liệu."
   ]
  },
  {
   "cell_type": "code",
   "execution_count": 16,
   "metadata": {},
   "outputs": [],
   "source": [
    "errors = results - data\n",
    "errors.dropna()"
   ]
  },
  {
   "cell_type": "markdown",
   "metadata": {},
   "source": [
    "Và đây là sai số tuyệt đối trung bình."
   ]
  },
  {
   "cell_type": "code",
   "execution_count": 17,
   "metadata": {},
   "outputs": [],
   "source": [
    "def mean_abs_error(results, data):\n",
    "    return (results-data).abs().mean()\n",
    "\n",
    "mean_abs_error(results, data)"
   ]
  },
  {
   "cell_type": "markdown",
   "metadata": {},
   "source": [
    "Mô hình này có thể giải thích tại sao chiều cao của cây tăng gần như là tuyến tính:\n",
    "\n",
    "1. Nếu diện tích tỉ lệ với $h^2$ còn khối lượng thì tỉ lệ với $h^3$, và\n",
    "\n",
    "2. Mức thay đổi về khối lượng thì tỉ lệ với diện tích, và\n",
    "\n",
    "3. Chiều cao tăng trưởng một cách tuyến tính, thì khi đó:\n",
    "\n",
    "4. Diện tích tăng tỉ lệ với $h^2$, và\n",
    "\n",
    "5. Khối lượng tăng tỉ lệ với $h^3$.\n",
    "\n",
    "Nếu mục đích là chỉ nhằm giải thích (xấp xỉ) sự tăng trưởng tuyến tính, thì ta có thể dừng lại ở đây. Song mô hình vẫn chưa khớp với dữ liệu lắm, và mô hình hàm ý rằng cây vẫn cứ tiếp tục tăng trưởng mãi.\n",
    "\n",
    "Vì vậy ta cần phải làm tốt hơn nữa."
   ]
  },
  {
   "cell_type": "markdown",
   "metadata": {},
   "source": [
    "## Mô hình 2"
   ]
  },
  {
   "cell_type": "markdown",
   "metadata": {},
   "source": [
    "Lần thử thứ hai, hãy coi như ta không biết $D$. Mà thực tế là ta không biết, vì cây cối không như các khối vật thể đơn giản; chúng giống các phân mảnh (fractal) hơn, chúng có [chiều fractal](https://en.wikipedia.org/wiki/Fractal_dimension).\n",
    "\n",
    "Tôi dự trù rằng số chiều fractal của cây sẽ vào khoảng giữa 2 và 3, nên tôi đoán 2.5."
   ]
  },
  {
   "cell_type": "code",
   "execution_count": 18,
   "metadata": {},
   "outputs": [],
   "source": [
    "alpha = 7\n",
    "dim = 2.5"
   ]
  },
  {
   "cell_type": "markdown",
   "metadata": {},
   "source": [
    "Tôi sẽ bọc mã lệnh ở mục truwsowsc vào trong một hàm. Hàm này nhận các tham số đầu vào và tạo nên một đối tượng `System`."
   ]
  },
  {
   "cell_type": "code",
   "execution_count": 19,
   "metadata": {},
   "outputs": [],
   "source": [
    "def make_system(params, data):\n",
    "    \"\"\"Tạo một đối tượng System.\n",
    "    \n",
    "    params: một dãy các alpha, dim\n",
    "    data: dãy Series\n",
    "    \n",
    "    trả lại: đối tượng System\n",
    "    \"\"\"\n",
    "    alpha, dim = params\n",
    "    \n",
    "    t_0 = data.index[0]\n",
    "    t_end = data.index[-1]\n",
    "    h_0 = data[t_0]\n",
    "\n",
    "    return System(alpha=alpha, dim=dim, \n",
    "                  h_0=h_0, t_0=t_0, t_end=t_end)"
   ]
  },
  {
   "cell_type": "markdown",
   "metadata": {},
   "source": [
    "Dưới đây là cách dùng nó."
   ]
  },
  {
   "cell_type": "code",
   "execution_count": 20,
   "metadata": {},
   "outputs": [],
   "source": [
    "params = alpha, dim\n",
    "system = make_system(params, data)"
   ]
  },
  {
   "cell_type": "markdown",
   "metadata": {},
   "source": [
    "Với các giá trị tham số khác nhau, ta thu được những đường cong với ứng xử khác nhau. Tôi đã chọn thủ công được những đường sau đây."
   ]
  },
  {
   "cell_type": "code",
   "execution_count": 21,
   "metadata": {},
   "outputs": [],
   "source": [
    "def run_and_plot(alpha, dim, data):\n",
    "    params = alpha, dim\n",
    "    system = make_system(params, data)\n",
    "    results = run_simulation(system, update)\n",
    "    results.plot(style=':', color='gray', label='_nolegend')"
   ]
  },
  {
   "cell_type": "code",
   "execution_count": 22,
   "metadata": {},
   "outputs": [],
   "source": [
    "run_and_plot(0.145, 2, data)\n",
    "run_and_plot(0.58, 2.4, data)\n",
    "run_and_plot(2.8, 2.8, data)\n",
    "run_and_plot(6.6, 3, data)\n",
    "run_and_plot(15.5, 3.2, data)\n",
    "run_and_plot(38, 3.4, data)\n",
    "\n",
    "data.plot(label='data')\n",
    "decorate(xlabel='Time (years)',\n",
    "             ylabel='Height (feet)')"
   ]
  },
  {
   "cell_type": "markdown",
   "metadata": {},
   "source": [
    "Để tìm ra các tham số khớp với số liệu nhất, tôi sẽ dùng `leastsq`.\n",
    "\n",
    "Ta cần một hàm sai số nhận vào các tham số rồi trả lại sai số:"
   ]
  },
  {
   "cell_type": "code",
   "execution_count": 23,
   "metadata": {},
   "outputs": [],
   "source": [
    "def error_func(params, data, update_func):\n",
    "    \"\"\"Chạy mô hình và trả lại sai số.\n",
    "    \n",
    "    params: dãy gồm các alpha, dim\n",
    "    data: dãy Series\n",
    "    update_func: đối tượng hàm\n",
    "    \n",
    "    returns: dãy các sai số\n",
    "    \"\"\"\n",
    "    print(params)\n",
    "    system = make_system(params, data)\n",
    "    results = run_simulation(system, update_func)\n",
    "    return (results - data).dropna()"
   ]
  },
  {
   "cell_type": "markdown",
   "metadata": {},
   "source": [
    "Dưới đây là cách ta sử dụng nó:"
   ]
  },
  {
   "cell_type": "code",
   "execution_count": 24,
   "metadata": {},
   "outputs": [],
   "source": [
    "errors = error_func(params, data, update)"
   ]
  },
  {
   "cell_type": "markdown",
   "metadata": {},
   "source": [
    "Bây giờ ta có thể truyền `error_func` vào `leastsq`, hàm thứ hai này tìm ra các tham số để giảm thiểu binh phương của các sai số."
   ]
  },
  {
   "cell_type": "code",
   "execution_count": 25,
   "metadata": {},
   "outputs": [],
   "source": [
    "best_params, details = leastsq(error_func, params, data, update)"
   ]
  },
  {
   "cell_type": "code",
   "execution_count": 26,
   "metadata": {},
   "outputs": [],
   "source": [
    "print(details.success)"
   ]
  },
  {
   "cell_type": "markdown",
   "metadata": {},
   "source": [
    "Dùng các tham số tốt nhất vừa tìm được, ta có thể chạy mô hình và vẽ biểu đồ kết quả."
   ]
  },
  {
   "cell_type": "code",
   "execution_count": 27,
   "metadata": {},
   "outputs": [],
   "source": [
    "system = make_system(best_params, data)\n",
    "results = run_simulation(system, update)\n",
    "plot_results(results, data)"
   ]
  },
  {
   "cell_type": "markdown",
   "metadata": {},
   "source": [
    "Sai số tuyệt đối trung bình lần này thì tốt hơn của Mô hình 1, song điều đó không nhiều ý nghĩa. Mô hình vẫn chưa khớp với số liệu."
   ]
  },
  {
   "cell_type": "code",
   "execution_count": 28,
   "metadata": {},
   "outputs": [],
   "source": [
    "mean_abs_error(results, data)"
   ]
  },
  {
   "cell_type": "markdown",
   "metadata": {},
   "source": [
    "Và số chiều fractal ước tính được bằng 3.11, vốn có vẻ không ổn.\n",
    "\n",
    "Ta hãy thử thêm một lần nữa."
   ]
  },
  {
   "cell_type": "markdown",
   "metadata": {},
   "source": [
    "## Mô hình 3"
   ]
  },
  {
   "cell_type": "markdown",
   "metadata": {},
   "source": [
    "Các mô hình 1 và 2 đều hàm ý rằng cây mọc cao mãi, nhưng ta biết điều đó không đúng.  that trees can grow forever, but we know that's not true. Khi cây càng cao thì càng khó để đưa nước và dưỡng chất lên dưới ảnh hưởng của trọng lực, và do vậy sự tăng trưởng cũng chậm lại.\n",
    "\n",
    "Ta có thể mô hình hóa hiệu ứng này bằng cách thêm một hệ số vào mô hình tương tự như ta đã thấy ở mô hình logit về tăng trưởng dân số. Thay vì giả sử rằng:\n",
    "\n",
    "$ m_{n+1} = m_n + \\alpha A $ \n",
    "\n",
    "Hãy giả sử rằng\n",
    "\n",
    "$ m_{n+1} = m_n + \\alpha A (1 - h / K) $\n",
    "\n",
    "trong đó $K$ tương tự như sức chứa trong mô hình logit. Khi $h$ tiến đến $K$, thừa số $(1 - h/K)$ sẽ tiến đến 0, dẫn đến mức tăng trưởng bị chậm đi.\n",
    "\n",
    "Dưới đây là mã lệnh thực hiện mô hình với sự sửa đổi này:"
   ]
  },
  {
   "cell_type": "code",
   "execution_count": 30,
   "metadata": {},
   "outputs": [],
   "source": [
    "alpha = 2.0\n",
    "dim = 2.5\n",
    "K = 150\n",
    "\n",
    "params = [alpha, dim, K]"
   ]
  },
  {
   "cell_type": "markdown",
   "metadata": {},
   "source": [
    "Đây là một phiên bản cập nhật của `make_system`"
   ]
  },
  {
   "cell_type": "code",
   "execution_count": 31,
   "metadata": {},
   "outputs": [],
   "source": [
    "def make_system(params, data):\n",
    "    \"\"\"Tạo một đối tượng System.\n",
    "    \n",
    "    params: dãy các giá trị alpha, dim, K\n",
    "    data: một dãy Series\n",
    "    \n",
    "    trả lại: đối tượng System\n",
    "    \"\"\"\n",
    "    alpha, dim, K = params\n",
    "    \n",
    "    t_0 = data.index[0]\n",
    "    t_end = data.index[-1]\n",
    "    h_0 = data[t_0]\n",
    "\n",
    "    return System(alpha=alpha, dim=dim, K=K, \n",
    "                  h_0=h_0, t_0=t_0, t_end=t_end)"
   ]
  },
  {
   "cell_type": "markdown",
   "metadata": {},
   "source": [
    "Sau đây là đối tượng `System` mới."
   ]
  },
  {
   "cell_type": "code",
   "execution_count": 32,
   "metadata": {},
   "outputs": [],
   "source": [
    "system = make_system(params, data)"
   ]
  },
  {
   "cell_type": "markdown",
   "metadata": {},
   "source": [
    "Và đây là hàm cập nhật mới."
   ]
  },
  {
   "cell_type": "code",
   "execution_count": 33,
   "metadata": {},
   "outputs": [],
   "source": [
    "def update3(height, t, system):\n",
    "    \"\"\"Cập nhật chiều cao dựa trên mô hình cấp số nhân với số hạng hạn chế tăng trưởng.\n",
    "    \n",
    "    height: chiều cao hiện thời, tính bằng feet\n",
    "    t: năm hiện thời\n",
    "    system: đối tượng hệ thống với các tham số mô hình\n",
    "    \"\"\"\n",
    "    area = height**2\n",
    "    mass = height**system.dim\n",
    "    mass += system.alpha * area * (1 - height/system.K)\n",
    "    return mass**(1/system.dim)"
   ]
  },
  {
   "cell_type": "markdown",
   "metadata": {},
   "source": [
    "Như thường lệ, ta sẽ kiểm thử hàm cập nhật với các điều kiện ban đầu."
   ]
  },
  {
   "cell_type": "code",
   "execution_count": 34,
   "metadata": {},
   "outputs": [],
   "source": [
    "update3(h_0, t_0, system)"
   ]
  },
  {
   "cell_type": "markdown",
   "metadata": {},
   "source": [
    "Và ta sẽ kiểm thử hàm sai số với hàm cập nhật mới viết."
   ]
  },
  {
   "cell_type": "code",
   "execution_count": 35,
   "metadata": {},
   "outputs": [],
   "source": [
    "error_func(params, data, update3)"
   ]
  },
  {
   "cell_type": "markdown",
   "metadata": {},
   "source": [
    "Bây giờ hãy dò tìm các tham số phù hợp nhất."
   ]
  },
  {
   "cell_type": "code",
   "execution_count": 36,
   "metadata": {},
   "outputs": [],
   "source": [
    "best_params, details = leastsq(error_func, params, data, update3)"
   ]
  },
  {
   "cell_type": "code",
   "execution_count": 37,
   "metadata": {},
   "outputs": [],
   "source": [
    "details.success"
   ]
  },
  {
   "cell_type": "markdown",
   "metadata": {},
   "source": [
    "Với các tham số này, ta có thể khớp dữ liệu tốt hơn nhiều."
   ]
  },
  {
   "cell_type": "code",
   "execution_count": 38,
   "metadata": {},
   "outputs": [],
   "source": [
    "system = make_system(best_params, data)\n",
    "results = run_simulation(system, update3)\n",
    "plot_results(results, data)"
   ]
  },
  {
   "cell_type": "markdown",
   "metadata": {},
   "source": [
    "Và sai số tuyệt đối trung bình sẽ nhỏ đi đáng kể."
   ]
  },
  {
   "cell_type": "code",
   "execution_count": 39,
   "metadata": {},
   "outputs": [],
   "source": [
    "mean_abs_error(results, data)"
   ]
  },
  {
   "cell_type": "markdown",
   "metadata": {},
   "source": [
    "Số chiều fractal vừa ước tính bằng khoảng 2.6, vậy là hợp lý; nó ngụ ý rằng nếu bạn tăng gấp đôi chiều cao của cây thì khối lượng sẽ tăng lên $2^{2.6}$ lần."
   ]
  },
  {
   "cell_type": "code",
   "execution_count": 40,
   "metadata": {},
   "outputs": [],
   "source": [
    "2**2.6"
   ]
  },
  {
   "cell_type": "markdown",
   "metadata": {},
   "source": [
    "Nói cách khác, khối lượng của cây tăng nhanh hơn diện tích mặt gỗ, nhưng không nhanh bằng thể tích khối gỗ 3 chiều.\n",
    "\n",
    "Mô hình này có tác dụng gì?\n",
    "\n",
    "1) Nó cho ta một lời giải thích khả dĩ cho hình dạng đường cong tăng trưởng của cây.\n",
    "\n",
    "2) Nó cho ta một cách ước tính số chiều fractal của một cái cây dựa trên đường cong tăng trưởng (có thẻ là với những giá trị khác nhau tùy theo loài).\n",
    "\n",
    "3) Nó có thể cho ta một cách dự tính mức tăng trưởng của một cái cây trong tương lại, dựa theo con số đo đạc trong quá khứ. Cũng như với mô hình dân số logit, điều này có lẽ chỉ đúng khi ta đã quan sát đến phần mà đường cong thể hiện tốc độ tăng trưởng giảm dần."
   ]
  },
  {
   "cell_type": "markdown",
   "metadata": {},
   "source": [
    "## Phân tích\n",
    "\n",
    "Với sự giúp đỡ từ đồng nghiệp của tôi, John Geddes, chúng ta có thể phân tích một chút.\n",
    "\n",
    "Bắt đầu từ phương trình sai phân cho khối lượng:\n",
    " \n",
    "$m_{n+1} = m_n + \\alpha A (1 - h / K) $\n",
    "\n",
    "Ta có thể viết các phương trình vi phân tương ứng sau:\n",
    "\n",
    "(1) $ \\frac{dm}{dt} = \\alpha A (1 - h / K) $\n",
    "\n",
    "Với\n",
    "\n",
    "(2) $A = h^2$\n",
    "\n",
    "và\n",
    "\n",
    "(3) $m = h^D$"
   ]
  },
  {
   "cell_type": "markdown",
   "metadata": {},
   "source": [
    "Lấy đạo hàm của phương trình cuối, ta được\n",
    "\n",
    "(4) $\\frac{dm}{dt} = D h^{D-1} \\frac{dh}{dt}$\n",
    "\n",
    "Kết hợp (1), (2), và (4), ta có thể viết một phương trình vi phân cho $h$:\n",
    "\n",
    "(5) $\\frac{dh}{dt} = \\frac{\\alpha}{D} h^{3-D} (1 - h/K)$"
   ]
  },
  {
   "cell_type": "markdown",
   "metadata": {},
   "source": [
    "Bây giờ hãy xét hai trường hợp:\n",
    "\n",
    "* Với $K$ vô hạn, thừa số $(1 - h/K)$ tiến đến 1, và ta có Mô hình 2.\n",
    "\n",
    "* Với $K$ hữu hạn, ta có Mô hình 3."
   ]
  },
  {
   "cell_type": "markdown",
   "metadata": {},
   "source": [
    "### Mô hình 2\n",
    "\n",
    "Trong Mô hình 2, ta sẽ xét hai trường hợp đặc biệt, với $D=2$ và $D=3$.\n",
    "\n",
    "Với $D=2$, ta có\n",
    "\n",
    "$\\frac{dh}{dt} = \\frac{\\alpha}{2} h$\n",
    "\n",
    "và phương trình này cho ta tăng trưởng theo cấp số nhân với tham số $\\alpha/2$.\n",
    "\n",
    "Với $D=3$, ta có Mô hình 1, cùng phương trình:\n",
    "\n",
    "$\\frac{dh}{dt} = \\frac{\\alpha}{3}$\n",
    "\n",
    "vốn cho ta tăng trưởng tuyến tính với tham số $\\alpha/3$. Kết quả này giải thích tại sao Mô hình 1 có dạng tuyến tính."
   ]
  },
  {
   "cell_type": "markdown",
   "metadata": {},
   "source": [
    "### Mô hình 3\n",
    "\n",
    "Trong Mô hình 3, ta sẽ xét hai trường hợp đặc biệt, với $D=2$ và $D=3$.\n",
    "\n",
    "Với $D=2$, ta có\n",
    "\n",
    "$\\frac{dh}{dt} = \\frac{\\alpha}{2} h (1 - h/K)$\n",
    "\n",
    "và phương trình này cho ta tăng trưởng logit với các tham số $r = \\alpha/2$ và $K$.\n",
    "\n",
    "Với $D=3$, ta có\n",
    "\n",
    "$\\frac{dh}{dt} = \\frac{\\alpha}{3} (1 - h/K)$\n",
    "\n",
    "vốn cho ta tăng trưởng bậc nhất với phản hồi bậc thang; nghĩa là nó hội tụ về $K$ như một hàm mũ âm:\n",
    "\n",
    "$ h(t) = c \\exp(-\\frac{\\alpha}{3K} t) + K $\n",
    "\n",
    "trong đó $c$ là một hằng số phụ thuộc vào điều kiện ban đầu."
   ]
  },
  {
   "cell_type": "markdown",
   "metadata": {},
   "source": [
    "**Bài tập mở** Hãy tìm một nghiệm giải tích khi $D$ nằm giữa 2 và 3, và so sánh nó với số liệu. Lưu ý: Tham số mà ta đã ước lượng cho phương trình sai phân có thể không đúng cho phương trình vi phân."
   ]
  },
  {
   "cell_type": "markdown",
   "metadata": {},
   "source": [
    "Tài liệu tham khảo:\n",
    "\n",
    "Garcia, [A stochastic differential equation model for the\n",
    "height growth of forest stands](http://citeseerx.ist.psu.edu/viewdoc/download;jsessionid=664FED1E46ABCBF6E16741C294B79976?doi=10.1.1.608.81&rep=rep1&type=pdf)\n",
    "\n",
    "[Phần mềm EasySDE cùng số liệu](http://forestgrowth.unbc.ca/)"
   ]
  },
  {
   "cell_type": "code",
   "execution_count": null,
   "metadata": {},
   "outputs": [],
   "source": []
  }
 ],
 "metadata": {
  "kernelspec": {
   "display_name": "Python 3",
   "language": "python",
   "name": "python3"
  },
  "language_info": {
   "codemirror_mode": {
    "name": "ipython",
    "version": 3
   },
   "file_extension": ".py",
   "mimetype": "text/x-python",
   "name": "python",
   "nbconvert_exporter": "python",
   "pygments_lexer": "ipython3",
   "version": "3.9.1"
  }
 },
 "nbformat": 4,
 "nbformat_minor": 2
}
