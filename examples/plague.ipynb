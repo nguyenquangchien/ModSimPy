{
 "cells": [
  {
   "cell_type": "markdown",
   "id": "combined-semiconductor",
   "metadata": {},
   "source": [
    "# Bệnh dịch Tân sinh viên"
   ]
  },
  {
   "cell_type": "markdown",
   "id": "imported-table",
   "metadata": {
    "tags": []
   },
   "source": [
    "*Mô hình hóa và mô phỏng bằng Python*\n",
    "\n",
    "Bản quyền 2021 Allen Downey\n",
    "\n",
    "Giấy phép: [Creative Commons Attribution-NonCommercial-ShareAlike 4.0 International](https://creativecommons.org/licenses/by-nc-sa/4.0/)"
   ]
  },
  {
   "cell_type": "code",
   "execution_count": 16,
   "id": "electoral-turkey",
   "metadata": {
    "tags": []
   },
   "outputs": [],
   "source": [
    "# cài đặt Pint nếu cần\n",
    "\n",
    "try:\n",
    "    import pint\n",
    "except ImportError:\n",
    "    !pip install pint"
   ]
  },
  {
   "cell_type": "code",
   "execution_count": 17,
   "id": "formal-context",
   "metadata": {
    "tags": []
   },
   "outputs": [],
   "source": [
    "# tải về modsim.py nếu cần\n",
    "\n",
    "from os.path import basename, exists\n",
    "\n",
    "def download(url):\n",
    "    filename = basename(url)\n",
    "    if not exists(filename):\n",
    "        from urllib.request import urlretrieve\n",
    "        local, _ = urlretrieve(url, filename)\n",
    "        print('Downloaded ' + local)\n",
    "    \n",
    "download('https://raw.githubusercontent.com/AllenDowney/' +\n",
    "         'ModSimPy/master/modsim.py')"
   ]
  },
  {
   "cell_type": "code",
   "execution_count": 18,
   "id": "progressive-typing",
   "metadata": {
    "tags": []
   },
   "outputs": [],
   "source": [
    "# import functions from modsim\n",
    "\n",
    "from modsim import *"
   ]
  },
  {
   "cell_type": "code",
   "execution_count": 24,
   "id": "undefined-miller",
   "metadata": {
    "tags": []
   },
   "outputs": [],
   "source": [
    "download('https://github.com/AllenDowney/ModSimPy/raw/master/' +\n",
    "         'chap11.py')"
   ]
  },
  {
   "cell_type": "code",
   "execution_count": 25,
   "id": "growing-sperm",
   "metadata": {
    "tags": []
   },
   "outputs": [],
   "source": [
    "# nhập mã lệnh từ các sổ notebooks trước\n",
    "\n",
    "from chap11 import make_system\n",
    "from chap11 import update_func\n",
    "from chap11 import run_simulation"
   ]
  },
  {
   "cell_type": "markdown",
   "id": "plastic-trigger",
   "metadata": {},
   "source": [
    "[Nhấn vào đây để chạy nghiên cứu cụ thể này trên Colab](https://colab.research.google.com/github/AllenDowney/ModSimPy/blob/master/examples/plague.ipynb)"
   ]
  },
  {
   "cell_type": "markdown",
   "id": "complex-renewal",
   "metadata": {},
   "source": [
    "Nghiên cứu cụ thể này tiếp tục từ điểm dừng ở Chương 12."
   ]
  },
  {
   "cell_type": "code",
   "execution_count": 26,
   "id": "recent-cooper",
   "metadata": {},
   "outputs": [],
   "source": [
    "def add_immunization(system, fraction):\n",
    "    system.init.S -= fraction\n",
    "    system.init.R += fraction"
   ]
  },
  {
   "cell_type": "code",
   "execution_count": 27,
   "id": "found-learning",
   "metadata": {},
   "outputs": [],
   "source": [
    "tc = 3             # thời gian giữa các lượt tiếp xúc, đơn vị ngày \n",
    "tr = 4             # thời gian hồi phục, đơn vị ngày\n",
    "\n",
    "beta = 1 / tc      # tốc độ tiếp xúc, đơn vị 1/ngày\n",
    "gamma = 1 / tr     # tốc độ hồi phục, đơn vị 1/ngày\n",
    "\n",
    "system = make_system(beta, gamma)"
   ]
  },
  {
   "cell_type": "code",
   "execution_count": 28,
   "id": "synthetic-element",
   "metadata": {},
   "outputs": [],
   "source": [
    "def calc_total_infected(results, system):\n",
    "    s_0 = results.S[0]\n",
    "    s_end = results.S[system.t_end]\n",
    "    return s_0 - s_end"
   ]
  },
  {
   "cell_type": "markdown",
   "id": "changed-capability",
   "metadata": {},
   "source": [
    "## Rửa tay\n",
    "\n",
    "Giả sử bạn là Trưởng ban Đời sống sinh viên, và bạn chỉ có quỹ \\$1200  để chống lại Bệnh dịch tân sinh viên. Bạn có hai phương án tiêu số tiền này:\n",
    "\n",
    "1.  Bạn có thể chi trả việc tiêm vắc-xin với giá \\$100 mỗi liều.\n",
    "\n",
    "2.  Bạn có thể tiêu tiền để vận động tuyên truyền cho sinh viên rửa tay\n",
    "    thường xuyên.\n",
    "\n",
    "Ta đã thấy rằng có thể mô hình hóa hiệu ứng của vắc-xin như thế nào rồi. \n",
    "Giờ ta hãy nghĩ về vận động tuyên truyền rửa tay. Ta sẽ phải trả lời \n",
    "hai câu hỏi:\n",
    "\n",
    "1.  Làm thế nào để đưa hiệu ứng của việc rửa tay vào mô hình này?\n",
    "\n",
    "2.  Làm thế nào để định lượng hiệu ứng của số tiền dành cho tổ chức vận động\n",
    "    tuyên truyền cho rửa tay?\n",
    "\n",
    "Để đơn giản, hãy giả sử rằng ta đã có dữ liệu của một đợt vận động tương tự\n",
    "ở một trường học khác, trong đó cho thấy rằng một đợt vận động được đầu tư đầy đủ\n",
    "sẽ làm thay đổi hành động của cộng đồng sinh viên đến mức giảm được tỉ lệ nhiễm bớt được 20%.\n",
    "\n",
    "In terms of the model, hand washing has the effect of reducing `beta`.\n",
    "That's not the only way we could incorporate the effect, but it seems\n",
    "reasonable and it's easy to implement."
   ]
  },
  {
   "cell_type": "markdown",
   "id": "alpine-guest",
   "metadata": {},
   "source": [
    "Now we have to model the relationship between the money we spend and the\n",
    "effectiveness of the campaign. Again, let's suppose we have data from\n",
    "another school that suggests:\n",
    "\n",
    "-   If we spend \\$500 on posters, materials, and staff time, we can\n",
    "    change student behavior in a way that decreases the effective value of `beta` by 10%.\n",
    "\n",
    "-   If we spend \\$1000, the total decrease in `beta` is almost 20%.\n",
    "\n",
    "-   Above \\$1000, additional spending has little additional benefit."
   ]
  },
  {
   "cell_type": "markdown",
   "id": "agricultural-trinidad",
   "metadata": {},
   "source": [
    "## Logistic function\n",
    "\n",
    "To model the effect of a hand-washing campaign, I'll use a [generalized logistic function](https://en.wikipedia.org/wiki/Generalised_logistic_function) (GLF), which is a convenient function for modeling curves that have a generally sigmoid shape.  The parameters of the GLF correspond to various features of the curve in a way that makes it easy to find a function that has the shape you want, based on data or background information about the scenario."
   ]
  },
  {
   "cell_type": "code",
   "execution_count": 29,
   "id": "blond-armstrong",
   "metadata": {},
   "outputs": [],
   "source": [
    "from numpy import exp\n",
    "\n",
    "def logistic(x, A=0, B=1, C=1, M=0, K=1, Q=1, nu=1):\n",
    "    \"\"\"Tính hàm logit tổng quát.\n",
    "    \n",
    "    A: kiểm soát cận dưới\n",
    "    B: kiểm soát độ dốc chuyển giao \n",
    "    C: theo tôi thì tham số này vô dụng\n",
    "    M: kiểm soát vị trí của chuyển giao\n",
    "    K: kiểm soát cận dưới\n",
    "    Q: dịch chuyển giao qua trái hoặc phải\n",
    "    nu: ảnh hưởng tính đối xứng của chuyển giao\n",
    "    \n",
    "    trả lại: float hoặc array\n",
    "    \"\"\"\n",
    "    exponent = -B * (x - M)\n",
    "    denom = C + Q * exp(exponent)\n",
    "    return A + (K-A) / denom ** (1/nu)"
   ]
  },
  {
   "cell_type": "markdown",
   "id": "seven-budget",
   "metadata": {},
   "source": [
    "Mảng sau đây thể hiện khoảng các mức chi khả dĩ."
   ]
  },
  {
   "cell_type": "code",
   "execution_count": 30,
   "id": "disturbed-amount",
   "metadata": {},
   "outputs": [],
   "source": [
    "spending = linspace(0, 1200, 21)"
   ]
  },
  {
   "cell_type": "markdown",
   "id": "supreme-nutrition",
   "metadata": {},
   "source": [
    "`compute_factor` tính mức giảm `beta` với một khoản chi vận động cho trước.\n",
    "\n",
    "`M` được chọn sao cho chuyển giao nằm ở quanh mức \\$500.\n",
    "\n",
    "`K` là mức giảm tối đa của `beta`, 20%.\n",
    "\n",
    "`B` được chọn qua cách thử sai nhằm thu được một đường cong khả dĩ."
   ]
  },
  {
   "cell_type": "code",
   "execution_count": 31,
   "id": "otherwise-answer",
   "metadata": {},
   "outputs": [],
   "source": [
    "def compute_factor(spending):\n",
    "    \"\"\"Hệ số chiết giảm như một hàm phụ thuộc vào mức chi.\n",
    "    \n",
    "    spending: mức chi tính theo đôla từ 0 đến 1200\n",
    "    \n",
    "    trả lại: tỉ lệ phần giảm của beta\n",
    "    \"\"\"\n",
    "    return logistic(spending, M=500, K=0.2, B=0.01)"
   ]
  },
  {
   "cell_type": "markdown",
   "id": "expected-venture",
   "metadata": {},
   "source": [
    "Here's what it looks like."
   ]
  },
  {
   "cell_type": "code",
   "execution_count": 32,
   "id": "seventh-strike",
   "metadata": {},
   "outputs": [],
   "source": [
    "percent_reduction = compute_factor(spending) * 100\n",
    "\n",
    "make_series(spending, percent_reduction).plot()\n",
    "\n",
    "decorate(xlabel='Hand-washing campaign spending (USD)',\n",
    "         ylabel='Percent reduction in infection rate',\n",
    "         title='Effect of hand washing on infection rate')"
   ]
  },
  {
   "cell_type": "markdown",
   "id": "legal-michigan",
   "metadata": {},
   "source": [
    "The result is the following function, which\n",
    "takes spending as a parameter and returns `factor`, which is the factor\n",
    "by which `beta` is reduced:"
   ]
  },
  {
   "cell_type": "code",
   "execution_count": 33,
   "id": "obvious-congress",
   "metadata": {},
   "outputs": [],
   "source": [
    "def compute_factor(spending):\n",
    "    return logistic(spending, M=500, K=0.2, B=0.01)"
   ]
  },
  {
   "cell_type": "markdown",
   "id": "sunset-investing",
   "metadata": {},
   "source": [
    "I use `compute_factor` to write `add_hand_washing`, which takes a\n",
    "`System` object and a budget, and modifies `system.beta` to model the\n",
    "effect of hand washing:"
   ]
  },
  {
   "cell_type": "code",
   "execution_count": 34,
   "id": "polish-multiple",
   "metadata": {},
   "outputs": [],
   "source": [
    "def add_hand_washing(system, spending):\n",
    "    factor = compute_factor(spending)\n",
    "    system.beta *= (1 - factor)"
   ]
  },
  {
   "cell_type": "markdown",
   "id": "worthy-fellowship",
   "metadata": {},
   "source": [
    "Now we can sweep a range of values for `spending` and use the simulation\n",
    "to compute the effect:"
   ]
  },
  {
   "cell_type": "code",
   "execution_count": 35,
   "id": "statistical-garden",
   "metadata": {},
   "outputs": [],
   "source": [
    "def sweep_hand_washing(spending_array):\n",
    "    sweep = SweepSeries()\n",
    "    \n",
    "    for spending in spending_array:\n",
    "        system = make_system(beta, gamma)\n",
    "        add_hand_washing(system, spending)\n",
    "        results = run_simulation(system, update_func)\n",
    "        sweep[spending] = calc_total_infected(results, system)\n",
    "        \n",
    "    return sweep"
   ]
  },
  {
   "cell_type": "markdown",
   "id": "clinical-surge",
   "metadata": {},
   "source": [
    "Here's how we run it:"
   ]
  },
  {
   "cell_type": "code",
   "execution_count": 36,
   "id": "joined-graduation",
   "metadata": {},
   "outputs": [],
   "source": [
    "from numpy import linspace\n",
    "\n",
    "spending_array = linspace(0, 1200, 20)\n",
    "infected_sweep2 = sweep_hand_washing(spending_array)"
   ]
  },
  {
   "cell_type": "markdown",
   "id": "designing-smile",
   "metadata": {},
   "source": [
    "The following figure shows the result. "
   ]
  },
  {
   "cell_type": "code",
   "execution_count": 37,
   "id": "cheap-decision",
   "metadata": {},
   "outputs": [],
   "source": [
    "infected_sweep2.plot()\n",
    "\n",
    "decorate(xlabel='Hand-washing campaign spending (USD)',\n",
    "         ylabel='Total fraction infected',\n",
    "         title='Effect of hand washing on total infections')"
   ]
  },
  {
   "cell_type": "markdown",
   "id": "selective-right",
   "metadata": {},
   "source": [
    "Below \\$200, the campaign has little effect. \n",
    "\n",
    "At \\$800 it has a substantial effect, reducing total infections from more than 45% to about 20%. \n",
    "\n",
    "Above \\$800, the additional benefit is small."
   ]
  },
  {
   "cell_type": "markdown",
   "id": "lucky-boulder",
   "metadata": {},
   "source": [
    "## Optimization\n",
    "\n",
    "Let's put it all together. With a fixed budget of \\$1200, we have to\n",
    "decide how many doses of vaccine to buy and how much to spend on the\n",
    "hand-washing campaign.\n",
    "\n",
    "Here are the parameters:"
   ]
  },
  {
   "cell_type": "code",
   "execution_count": 38,
   "id": "surrounded-copying",
   "metadata": {},
   "outputs": [],
   "source": [
    "num_students = 90\n",
    "budget = 1200\n",
    "price_per_dose = 100\n",
    "max_doses = int(budget / price_per_dose)\n",
    "max_doses"
   ]
  },
  {
   "cell_type": "markdown",
   "id": "expired-conditioning",
   "metadata": {},
   "source": [
    "The fraction `budget/price_per_dose` might not be an integer. `int` is a\n",
    "built-in function that converts numbers to integers, rounding down.\n",
    "\n",
    "We'll sweep the range of possible doses:"
   ]
  },
  {
   "cell_type": "code",
   "execution_count": 39,
   "id": "shaped-utility",
   "metadata": {},
   "outputs": [],
   "source": [
    "dose_array = linrange(max_doses)"
   ]
  },
  {
   "cell_type": "markdown",
   "id": "occupational-reply",
   "metadata": {},
   "source": [
    "In this example we call `linrange` with only one argument; it returns a NumPy array with the integers from 0 to `max_doses`, including both.\n",
    "\n",
    "Then we run the simulation for each element of `dose_array`:"
   ]
  },
  {
   "cell_type": "code",
   "execution_count": 40,
   "id": "recognized-release",
   "metadata": {},
   "outputs": [],
   "source": [
    "def sweep_doses(dose_array):\n",
    "    sweep = SweepSeries()\n",
    "    \n",
    "    for doses in dose_array:\n",
    "        fraction = doses / num_students\n",
    "        spending = budget - doses * price_per_dose\n",
    "        \n",
    "        system = make_system(beta, gamma)\n",
    "        add_immunization(system, fraction)\n",
    "        add_hand_washing(system, spending)\n",
    "        \n",
    "        results = run_simulation(system, update_func)\n",
    "        sweep[doses] = calc_total_infected(results, system)\n",
    "\n",
    "    return sweep"
   ]
  },
  {
   "cell_type": "markdown",
   "id": "cardiac-mitchell",
   "metadata": {},
   "source": [
    "For each number of doses, we compute the fraction of students we can\n",
    "immunize, `fraction` and the remaining budget we can spend on the\n",
    "campaign, `spending`. Then we run the simulation with those quantities\n",
    "and store the number of infections.\n",
    "\n",
    "The following figure shows the result."
   ]
  },
  {
   "cell_type": "code",
   "execution_count": 41,
   "id": "worth-mounting",
   "metadata": {},
   "outputs": [],
   "source": [
    "infected_sweep3 = sweep_doses(dose_array)"
   ]
  },
  {
   "cell_type": "code",
   "execution_count": 42,
   "id": "adjusted-highlight",
   "metadata": {},
   "outputs": [],
   "source": [
    "infected_sweep3.plot()\n",
    "\n",
    "decorate(xlabel='Doses of vaccine',\n",
    "         ylabel='Total fraction infected',\n",
    "         title='Total infections vs. doses')"
   ]
  },
  {
   "cell_type": "markdown",
   "id": "dynamic-easter",
   "metadata": {},
   "source": [
    "If we buy no doses of vaccine and spend the entire budget on the campaign, the fraction infected is around 19%. At 4 doses, we have \\$800 left for the campaign, and this is the optimal point that minimizes the number of students who get sick.\n",
    "\n",
    "As we increase the number of doses, we have to cut campaign spending,\n",
    "which turns out to make things worse. But interestingly, when we get\n",
    "above 10 doses, the effect of herd immunity starts to kick in, and the\n",
    "number of sick students goes down again."
   ]
  },
  {
   "cell_type": "markdown",
   "id": "timely-bottom",
   "metadata": {},
   "source": [
    "**Exercise:** Suppose the price of the vaccine drops to $50 per dose.  How does that affect the optimal allocation of the spending?"
   ]
  },
  {
   "cell_type": "code",
   "execution_count": null,
   "id": "swiss-preview",
   "metadata": {},
   "outputs": [],
   "source": []
  }
 ],
 "metadata": {
  "celltoolbar": "Tags",
  "kernelspec": {
   "display_name": "Python 3",
   "language": "python",
   "name": "python3"
  },
  "language_info": {
   "codemirror_mode": {
    "name": "ipython",
    "version": 3
   },
   "file_extension": ".py",
   "mimetype": "text/x-python",
   "name": "python",
   "nbconvert_exporter": "python",
   "pygments_lexer": "ipython3",
   "version": "3.9.1"
  }
 },
 "nbformat": 4,
 "nbformat_minor": 5
}
