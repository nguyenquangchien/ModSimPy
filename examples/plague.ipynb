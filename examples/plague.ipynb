{
 "cells": [
  {
   "cell_type": "markdown",
   "id": "combined-semiconductor",
   "metadata": {},
   "source": [
    "# Bệnh dịch Tân sinh viên"
   ]
  },
  {
   "cell_type": "markdown",
   "id": "imported-table",
   "metadata": {
    "tags": []
   },
   "source": [
    "*Mô hình hóa và mô phỏng bằng Python*\n",
    "\n",
    "Bản quyền 2021 Allen Downey\n",
    "\n",
    "Giấy phép: [Creative Commons Attribution-NonCommercial-ShareAlike 4.0 International](https://creativecommons.org/licenses/by-nc-sa/4.0/)"
   ]
  },
  {
   "cell_type": "code",
   "execution_count": 16,
   "id": "electoral-turkey",
   "metadata": {
    "tags": []
   },
   "outputs": [],
   "source": [
    "# cài đặt Pint nếu cần\n",
    "\n",
    "try:\n",
    "    import pint\n",
    "except ImportError:\n",
    "    !pip install pint"
   ]
  },
  {
   "cell_type": "code",
   "execution_count": 17,
   "id": "formal-context",
   "metadata": {
    "tags": []
   },
   "outputs": [],
   "source": [
    "# tải về modsim.py nếu cần\n",
    "\n",
    "from os.path import basename, exists\n",
    "\n",
    "def download(url):\n",
    "    filename = basename(url)\n",
    "    if not exists(filename):\n",
    "        from urllib.request import urlretrieve\n",
    "        local, _ = urlretrieve(url, filename)\n",
    "        print('Downloaded ' + local)\n",
    "    \n",
    "download('https://raw.githubusercontent.com/AllenDowney/' +\n",
    "         'ModSimPy/master/modsim.py')"
   ]
  },
  {
   "cell_type": "code",
   "execution_count": 18,
   "id": "progressive-typing",
   "metadata": {
    "tags": []
   },
   "outputs": [],
   "source": [
    "# import functions from modsim\n",
    "\n",
    "from modsim import *"
   ]
  },
  {
   "cell_type": "code",
   "execution_count": 24,
   "id": "undefined-miller",
   "metadata": {
    "tags": []
   },
   "outputs": [],
   "source": [
    "download('https://github.com/AllenDowney/ModSimPy/raw/master/' +\n",
    "         'chap11.py')"
   ]
  },
  {
   "cell_type": "code",
   "execution_count": 25,
   "id": "growing-sperm",
   "metadata": {
    "tags": []
   },
   "outputs": [],
   "source": [
    "# nhập mã lệnh từ các sổ notebooks trước\n",
    "\n",
    "from chap11 import make_system\n",
    "from chap11 import update_func\n",
    "from chap11 import run_simulation"
   ]
  },
  {
   "cell_type": "markdown",
   "id": "plastic-trigger",
   "metadata": {},
   "source": [
    "[Nhấn vào đây để chạy nghiên cứu cụ thể này trên Colab](https://colab.research.google.com/github/AllenDowney/ModSimPy/blob/master/examples/plague.ipynb)"
   ]
  },
  {
   "cell_type": "markdown",
   "id": "complex-renewal",
   "metadata": {},
   "source": [
    "Nghiên cứu cụ thể này tiếp tục từ điểm dừng ở Chương 12."
   ]
  },
  {
   "cell_type": "code",
   "execution_count": 26,
   "id": "recent-cooper",
   "metadata": {},
   "outputs": [],
   "source": [
    "def add_immunization(system, fraction):\n",
    "    system.init.S -= fraction\n",
    "    system.init.R += fraction"
   ]
  },
  {
   "cell_type": "code",
   "execution_count": 27,
   "id": "found-learning",
   "metadata": {},
   "outputs": [],
   "source": [
    "tc = 3             # thời gian giữa các lượt tiếp xúc, đơn vị ngày \n",
    "tr = 4             # thời gian hồi phục, đơn vị ngày\n",
    "\n",
    "beta = 1 / tc      # tốc độ tiếp xúc, đơn vị 1/ngày\n",
    "gamma = 1 / tr     # tốc độ hồi phục, đơn vị 1/ngày\n",
    "\n",
    "system = make_system(beta, gamma)"
   ]
  },
  {
   "cell_type": "code",
   "execution_count": 28,
   "id": "synthetic-element",
   "metadata": {},
   "outputs": [],
   "source": [
    "def calc_total_infected(results, system):\n",
    "    s_0 = results.S[0]\n",
    "    s_end = results.S[system.t_end]\n",
    "    return s_0 - s_end"
   ]
  },
  {
   "cell_type": "markdown",
   "id": "changed-capability",
   "metadata": {},
   "source": [
    "## Rửa tay\n",
    "\n",
    "Giả sử bạn là Trưởng ban Đời sống sinh viên, và bạn chỉ có quỹ \\$1200  để chống lại Bệnh dịch tân sinh viên. Bạn có hai phương án tiêu số tiền này:\n",
    "\n",
    "1.  Bạn có thể chi trả việc tiêm vắc-xin với giá \\$100 mỗi liều.\n",
    "\n",
    "2.  Bạn có thể tiêu tiền để vận động tuyên truyền cho sinh viên rửa tay\n",
    "    thường xuyên.\n",
    "\n",
    "Ta đã thấy rằng có thể mô hình hóa hiệu ứng của vắc-xin như thế nào rồi. \n",
    "Giờ ta hãy nghĩ về vận động tuyên truyền rửa tay. Ta sẽ phải trả lời \n",
    "hai câu hỏi:\n",
    "\n",
    "1.  Làm thế nào để đưa hiệu ứng của việc rửa tay vào mô hình này?\n",
    "\n",
    "2.  Làm thế nào để định lượng hiệu ứng của số tiền dành cho tổ chức vận động\n",
    "    tuyên truyền cho rửa tay?\n",
    "\n",
    "Để đơn giản, hãy giả sử rằng ta đã có dữ liệu của một đợt vận động tương tự\n",
    "ở một trường học khác, trong đó cho thấy rằng một đợt vận động được đầu tư đầy đủ\n",
    "sẽ làm thay đổi hành động của cộng đồng sinh viên đến mức giảm được tỉ lệ nhiễm bớt được 20%.\n",
    "\n",
    "Xét về khía cạnh mô hình, việc rửa tay có hiệu ứng làm giảm `beta`.\n",
    "Đó không phải cách duy nhất mà ta có thẻ đưa hiệu ứng vào, nhưng nó có vẻ\n",
    "hợp lý và dễ thực hiện."
   ]
  },
  {
   "cell_type": "markdown",
   "id": "alpine-guest",
   "metadata": {},
   "source": [
    "Bây giờ ta phải mô hình hóa mối liên hệ giữa số tiền chi và\n",
    "hiệu quả của cuộc vận động. Một lần nữa, hãy giả sử rằng dữ liệu\n",
    "từ ngôi trường khác cho thấy:\n",
    "\n",
    "-   Nếu ta chi \\$500 cho các poster, vật liệu và thời gian lao động, thì ta có thể\n",
    "    làm thay đổi biểu hiện của học sinh theo cách làm giảm giá trị hiệu quả của `beta` đi 10%.\n",
    "\n",
    "-   Nếu ta chi \\$1000, mức tăng tổng cộng của `beta` sẽ gần bằng 20%.\n",
    "\n",
    "-   Quá \\$1000, những chi tiêu vượt thêm chỉ mang lại ít lợi ích."
   ]
  },
  {
   "cell_type": "markdown",
   "id": "agricultural-trinidad",
   "metadata": {},
   "source": [
    "## Hàm logit\n",
    "\n",
    "Để mô hình hóa hiệu ứng của cuộc vận động rửa tay, tôi sẽ dùng một [hàm logit tổng quát](https://en.wikipedia.org/wiki/Generalised_logistic_function) (GLF), đây là một hàm tiện dụng cho mô hình hóa các đường cong có hình dạng chung như chữ S. Các tham số của hàm GLF tương ứng với các đặc điểm của đường cong theo cách cho phép ta dễ dàng tìm được một hàm để có hình dáng như mong muốn, dựa trên số liệu hay thông tin nền về kịch bản."
   ]
  },
  {
   "cell_type": "code",
   "execution_count": 29,
   "id": "blond-armstrong",
   "metadata": {},
   "outputs": [],
   "source": [
    "from numpy import exp\n",
    "\n",
    "def logistic(x, A=0, B=1, C=1, M=0, K=1, Q=1, nu=1):\n",
    "    \"\"\"Tính hàm logit tổng quát.\n",
    "    \n",
    "    A: kiểm soát cận dưới\n",
    "    B: kiểm soát độ dốc chuyển giao \n",
    "    C: theo tôi thì tham số này vô dụng\n",
    "    M: kiểm soát vị trí của chuyển giao\n",
    "    K: kiểm soát cận dưới\n",
    "    Q: dịch chuyển giao qua trái hoặc phải\n",
    "    nu: ảnh hưởng tính đối xứng của chuyển giao\n",
    "    \n",
    "    trả lại: float hoặc array\n",
    "    \"\"\"\n",
    "    exponent = -B * (x - M)\n",
    "    denom = C + Q * exp(exponent)\n",
    "    return A + (K-A) / denom ** (1/nu)"
   ]
  },
  {
   "cell_type": "markdown",
   "id": "seven-budget",
   "metadata": {},
   "source": [
    "Mảng sau đây thể hiện khoảng các mức chi khả dĩ."
   ]
  },
  {
   "cell_type": "code",
   "execution_count": 30,
   "id": "disturbed-amount",
   "metadata": {},
   "outputs": [],
   "source": [
    "spending = linspace(0, 1200, 21)"
   ]
  },
  {
   "cell_type": "markdown",
   "id": "supreme-nutrition",
   "metadata": {},
   "source": [
    "`compute_factor` tính mức giảm `beta` với một khoản chi vận động cho trước.\n",
    "\n",
    "`M` được chọn sao cho chuyển giao nằm ở quanh mức \\$500.\n",
    "\n",
    "`K` là mức giảm tối đa của `beta`, 20%.\n",
    "\n",
    "`B` được chọn qua cách thử sai nhằm thu được một đường cong khả dĩ."
   ]
  },
  {
   "cell_type": "code",
   "execution_count": 31,
   "id": "otherwise-answer",
   "metadata": {},
   "outputs": [],
   "source": [
    "def compute_factor(spending):\n",
    "    \"\"\"Hệ số chiết giảm như một hàm phụ thuộc vào mức chi.\n",
    "    \n",
    "    spending: mức chi tính theo đôla từ 0 đến 1200\n",
    "    \n",
    "    trả lại: tỉ lệ phần giảm của beta\n",
    "    \"\"\"\n",
    "    return logistic(spending, M=500, K=0.2, B=0.01)"
   ]
  },
  {
   "cell_type": "markdown",
   "id": "expected-venture",
   "metadata": {},
   "source": [
    "Sau đây là hình dáng của hàm lập được."
   ]
  },
  {
   "cell_type": "code",
   "execution_count": 32,
   "id": "seventh-strike",
   "metadata": {},
   "outputs": [],
   "source": [
    "percent_reduction = compute_factor(spending) * 100\n",
    "\n",
    "make_series(spending, percent_reduction).plot()\n",
    "\n",
    "decorate(xlabel='Mức chi vận động tuyên truyền rửa tay (USD)',\n",
    "         ylabel='Phần trăm mức độ giảm tỉ lệ nhiễm',\n",
    "         title='Hiệu ứng của việc rửa tay đối với tỉ lệ nhiễm')"
   ]
  },
  {
   "cell_type": "markdown",
   "id": "legal-michigan",
   "metadata": {},
   "source": [
    "Kết quả là hàm số sau, hàm này\n",
    "nhận vào tham số là mức chi và trả lại `factor`, là tỉ lệ\n",
    "mà `beta` bị giảm:"
   ]
  },
  {
   "cell_type": "code",
   "execution_count": 33,
   "id": "obvious-congress",
   "metadata": {},
   "outputs": [],
   "source": [
    "def compute_factor(spending):\n",
    "    return logistic(spending, M=500, K=0.2, B=0.01)"
   ]
  },
  {
   "cell_type": "markdown",
   "id": "sunset-investing",
   "metadata": {},
   "source": [
    "Tôi dùng `compute_factor` để viết `add_hand_washing`, hàm này nhận vào\n",
    "mối đối tượng `System` và một khoản tiền, rồi thay đổi `system.beta` để mô hình hóa\n",
    "hiệu ứng của phong trào rửa tay:"
   ]
  },
  {
   "cell_type": "code",
   "execution_count": 34,
   "id": "polish-multiple",
   "metadata": {},
   "outputs": [],
   "source": [
    "def add_hand_washing(system, spending):\n",
    "    factor = compute_factor(spending)\n",
    "    system.beta *= (1 - factor)"
   ]
  },
  {
   "cell_type": "markdown",
   "id": "worthy-fellowship",
   "metadata": {},
   "source": [
    "Bây giờ ta có thể quét một khoảng các giá trị `spending` và dùng mô phỏng\n",
    "để tính được hiệu ứng:"
   ]
  },
  {
   "cell_type": "code",
   "execution_count": 35,
   "id": "statistical-garden",
   "metadata": {},
   "outputs": [],
   "source": [
    "def sweep_hand_washing(spending_array):\n",
    "    sweep = SweepSeries()\n",
    "    \n",
    "    for spending in spending_array:\n",
    "        system = make_system(beta, gamma)\n",
    "        add_hand_washing(system, spending)\n",
    "        results = run_simulation(system, update_func)\n",
    "        sweep[spending] = calc_total_infected(results, system)\n",
    "        \n",
    "    return sweep"
   ]
  },
  {
   "cell_type": "markdown",
   "id": "clinical-surge",
   "metadata": {},
   "source": [
    "Đây là cách ta chạy hàm này:"
   ]
  },
  {
   "cell_type": "code",
   "execution_count": 36,
   "id": "joined-graduation",
   "metadata": {},
   "outputs": [],
   "source": [
    "from numpy import linspace\n",
    "\n",
    "spending_array = linspace(0, 1200, 20)\n",
    "infected_sweep2 = sweep_hand_washing(spending_array)"
   ]
  },
  {
   "cell_type": "markdown",
   "id": "designing-smile",
   "metadata": {},
   "source": [
    "Hình vẽ dưới đây cho thấy kết quả. "
   ]
  },
  {
   "cell_type": "code",
   "execution_count": 37,
   "id": "cheap-decision",
   "metadata": {},
   "outputs": [],
   "source": [
    "infected_sweep2.plot()\n",
    "\n",
    "decorate(xlabel='Mức chi vận động tuyên truyền rửa tay (USD)',\n",
    "         ylabel='Tỉ lệ nhiễm tổng cộng',\n",
    "         title='Hiệu ứng của việc rửa tay đối với tỉ lệ nhiễm')"
   ]
  },
  {
   "cell_type": "markdown",
   "id": "selective-right",
   "metadata": {},
   "source": [
    "Dưới mức \\$200, cuộc vận động ít hiệu quả. \n",
    "\n",
    "Ở mức \\$800 nó có hiệu quả đáng kể, giảm tỉ lệ nhiễm tổng cộng từ hơn 45% xuống còn khoảng 20%. \n",
    "\n",
    "Trên mức \\$800, những lợi ích phụ thêm là rất nhỏ."
   ]
  },
  {
   "cell_type": "markdown",
   "id": "lucky-boulder",
   "metadata": {},
   "source": [
    "## Tối ưu hóa\n",
    "\n",
    "Ta hãy tổng hợp tất cả lại. Với một quỹ cố định \\$1200, ta phải quyết định\n",
    "xem cần mua bao nhiêu bao nhiêu liều vắc-xin và phải tiêu bao nhiêu cho\n",
    "vận động tuyên truyền rửa tay.\n",
    "\n",
    "Sau đây là các thông số:"
   ]
  },
  {
   "cell_type": "code",
   "execution_count": 38,
   "id": "surrounded-copying",
   "metadata": {},
   "outputs": [],
   "source": [
    "num_students = 90\n",
    "budget = 1200\n",
    "price_per_dose = 100\n",
    "max_doses = int(budget / price_per_dose)\n",
    "max_doses"
   ]
  },
  {
   "cell_type": "markdown",
   "id": "expired-conditioning",
   "metadata": {},
   "source": [
    "Tỉ số `budget/price_per_dose` có thể không phải là một số nguyên. `int`\n",
    "là hàm dựng sẵn để quy đổi các số thành số nguyên, làm tròn xuống.\n",
    "\n",
    "Ta sẽ quét một loạt các liều lượng khả dĩ:"
   ]
  },
  {
   "cell_type": "code",
   "execution_count": 39,
   "id": "shaped-utility",
   "metadata": {},
   "outputs": [],
   "source": [
    "dose_array = linrange(max_doses)"
   ]
  },
  {
   "cell_type": "markdown",
   "id": "occupational-reply",
   "metadata": {},
   "source": [
    "Ở ví dụ này ta gọi `linrange` với chỉ một đối số; nó trả lại một mảng NumPy array với các số nguyên từ 0 đến `max_doses`, bao gồm cả hai đầu.\n",
    "\n",
    "Sau đó ta chạy mô phỏng cho từng phần tử của `dose_array`:"
   ]
  },
  {
   "cell_type": "code",
   "execution_count": 40,
   "id": "recognized-release",
   "metadata": {},
   "outputs": [],
   "source": [
    "def sweep_doses(dose_array):\n",
    "    sweep = SweepSeries()\n",
    "    \n",
    "    for doses in dose_array:\n",
    "        fraction = doses / num_students\n",
    "        spending = budget - doses * price_per_dose\n",
    "        \n",
    "        system = make_system(beta, gamma)\n",
    "        add_immunization(system, fraction)\n",
    "        add_hand_washing(system, spending)\n",
    "        \n",
    "        results = run_simulation(system, update_func)\n",
    "        sweep[doses] = calc_total_infected(results, system)\n",
    "\n",
    "    return sweep"
   ]
  },
  {
   "cell_type": "markdown",
   "id": "cardiac-mitchell",
   "metadata": {},
   "source": [
    "Với từng số liều, ta tính tỉ lệ sinh viên mà ta có thể\n",
    "gây miễn dịch, `fraction` và số tiền còn lại có thể tiêu cho cuộc vận động,\n",
    "`spending`. Sau đó ta chạy mô phỏng với những đại lượng này\n",
    "và lưu lại số ca nhiễm.\n",
    "\n",
    "Hình dưới đây cho thấy kết quả."
   ]
  },
  {
   "cell_type": "code",
   "execution_count": 41,
   "id": "worth-mounting",
   "metadata": {},
   "outputs": [],
   "source": [
    "infected_sweep3 = sweep_doses(dose_array)"
   ]
  },
  {
   "cell_type": "code",
   "execution_count": 42,
   "id": "adjusted-highlight",
   "metadata": {},
   "outputs": [],
   "source": [
    "infected_sweep3.plot()\n",
    "\n",
    "decorate(xlabel='Số liều vắc-xin',\n",
    "         ylabel='Tổng tỉ lệ nhiễm',\n",
    "         title='Tổng nhiễm so với số liều')"
   ]
  },
  {
   "cell_type": "markdown",
   "id": "dynamic-easter",
   "metadata": {},
   "source": [
    "Nếu ta không mua liều vắc-xin nào cả và tiêu toàn bộ tiền cho cuộc vận động, thì tỉ lệ nhiễm vào khoảng 19%. Với 4 liều, ta còn khoảng \\$800 cho cuộc vận động, và đây là điểm tối ưu giúp cho cực tiểu hóa số sinh viên bị bệnh.\n",
    "\n",
    "Khi tăng số liều thuốc, ta phải cắt giảm chi tiêu cho vận động,\n",
    "điều đó hóa ra lại tồi tệ hơn. Nhưng dáng lưu tâm là khi ta áp dụng\n",
    "trên 10 liều thì ảnh hưởng miễn dịch cộng đồng bắt đầu phát huy tác dụng và\n",
    "số sinh viên bị bệnh lại giảm xuống."
   ]
  },
  {
   "cell_type": "markdown",
   "id": "timely-bottom",
   "metadata": {},
   "source": [
    "**Bài tập:** Giả sử giá của vắc-xin giảm xuống chỉ còn $50 mỗi liều. Điều này sẽ ảnh hưởng đến việc mức chi tối ưu cần huy động là bao nhiêu?"
   ]
  },
  {
   "cell_type": "code",
   "execution_count": null,
   "id": "swiss-preview",
   "metadata": {},
   "outputs": [],
   "source": []
  }
 ],
 "metadata": {
  "celltoolbar": "Tags",
  "kernelspec": {
   "display_name": "Python 3",
   "language": "python",
   "name": "python3"
  },
  "language_info": {
   "codemirror_mode": {
    "name": "ipython",
    "version": 3
   },
   "file_extension": ".py",
   "mimetype": "text/x-python",
   "name": "python",
   "nbconvert_exporter": "python",
   "pygments_lexer": "ipython3",
   "version": "3.9.1"
  }
 },
 "nbformat": 4,
 "nbformat_minor": 5
}
