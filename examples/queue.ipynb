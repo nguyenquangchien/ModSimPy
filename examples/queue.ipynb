{
 "cells": [
  {
   "cell_type": "markdown",
   "metadata": {},
   "source": [
    "# Một hàng đợi hay là hai?"
   ]
  },
  {
   "cell_type": "markdown",
   "metadata": {},
   "source": [
    "*Mô hình hóa và mô phỏng bằng Python*\n",
    "\n",
    "Bản quyền 2021 Allen Downey\n",
    "\n",
    "Giấy phép: [Creative Commons Attribution-NonCommercial-ShareAlike 4.0 International](https://creativecommons.org/licenses/by-nc-sa/4.0/)"
   ]
  },
  {
   "cell_type": "code",
   "execution_count": 1,
   "metadata": {
    "tags": []
   },
   "outputs": [],
   "source": [
    "# cài đặt Pint nếu cần\n",
    "\n",
    "try:\n",
    "    import pint\n",
    "except ImportError:\n",
    "    !pip install pint"
   ]
  },
  {
   "cell_type": "code",
   "execution_count": 2,
   "metadata": {
    "tags": []
   },
   "outputs": [],
   "source": [
    "# tải về modsim.py nếu cần\n",
    "\n",
    "from os.path import exists\n",
    "\n",
    "filename = 'modsim.py'\n",
    "if not exists(filename):\n",
    "    from urllib.request import urlretrieve\n",
    "    url = 'https://raw.githubusercontent.com/AllenDowney/ModSim/main/'\n",
    "    local, _ = urlretrieve(url+filename, filename)\n",
    "    print('Downloaded ' + local)"
   ]
  },
  {
   "cell_type": "code",
   "execution_count": 3,
   "metadata": {
    "tags": []
   },
   "outputs": [],
   "source": [
    "# nhập các hàm từ modsim\n",
    "\n",
    "from modsim import *"
   ]
  },
  {
   "cell_type": "markdown",
   "metadata": {},
   "source": [
    "Cuốn sổ tính này trình bày nghiên cứu cụ thể trong *Mô hình hóa và mô phỏng bằng Python*.  Mục đích là nhằm khám phá một câu hỏi liên quan tới lý thuyết hàng đợi, vốn đi tìm hiểu những hệ thống có thời gian chờ đợi trong các hàng, còn gọi là những \"hàng đợi\".\n",
    "\n",
    "Giả sử bạn dang thiết kế khu vực thanh toán của một quầy hàng. Có đủ chỗ trong quầy để bạn bố trí 2 bàn thanh toán và một khu dành cho khách hàng đứng đợi. Bạn có thể bố trí khách xếp hai hàng, mỗi hàng tiến vào một bàn thanh toán, hay chỉ một hàng đi vào cả 2 bàn.\n",
    "\n",
    "Về lý thuyết, bạn sẽ dự trù rằng một hàng hẳn phải tốt hơn, nhưng nó có những trở ngại rất thực tế: để duy trì dược một hàng, bạn phải đặt thêm rào chắn, và khách hàng có thể cảm thấy bực vì hàng có vẻ dài hơn, dù rằng hàng này sẽ di chuyển nhanh hơn.\n",
    "\n",
    "Như vậy bạn sẽ muốn kiểm tra xem liệu một hàng có thực sự nhanh hơn không và nếu có thì nhanh hơn bao nhiêu. Mô phỏng có thể giúp ta giải đáp điều này."
   ]
  },
  {
   "cell_type": "markdown",
   "metadata": {},
   "source": [
    "Như đã làm với mô hình chung xe, ta sẽ giả sử rằng một khách hàng có khả năng đồng đều xuất hiện vào bất kì bước thời gian nào. Tôi sẽ kí hiệu xác suất này bằng chữ cái Hi Lạp lambda, $\\lambda$, hoặc bằng tên biến `lam`.  Trị số của $\\lambda$ có lẽ thay đổi ngày qua ngày, bởi vậy ta sẽ phải xét một khoảng các xác suất.\n",
    "\n",
    "Dựa vào số liệu từ những cửa hàng khác, bạn biết rằng trung bình mỗi khách hàng phải mất 5 phút để chờ đến khi thanh toán xong. Nhưng thời gian thanh toán này lại khác nhau: đa số khách hàng mất ít hơn 5 phút, nhưng có người lại mất nhiều hơn 5 phút rất nhiều. Một cách dơn giản để mô hình hóa sự biến đổi này là giả sử rằng khi một khách hàng thanh toán, luôn có cùng xác suất để thanh toán xong xuôi ở bước thời gian kế tiếp, bất kể họ đã mất bao nhiêu thời gian từ lúc xếp hàng đến giờ. Tôi sẽ kí hiệu xác suất này bằng chữ cái Hi Lạp $\\mu$, hay là tên biến `mu`.\n",
    "\n",
    "Nếu ta chọn $\\mu=1/5$, mỗi phút, thì thời gian trung bình của mỗi lượt thanh toán sẽ là 5 phút; điều này thống nhất với số liệu ta có."
   ]
  },
  {
   "cell_type": "markdown",
   "metadata": {},
   "source": [
    "## Một quầy phục vụ, một hàng đợi\n",
    "\n",
    "Hãy viết một hàm có tên `make_system`, hàm này nhận vào các tham số `lam` và `mu` rồi trả lại một đối tượng `System` với các biến `lam`, `mu`, và `duration`.  Hãy đặt `duration`, vốn là số bước thời gian mô hỏng, thành 10 giờ (biểu diễn bằng số phút)."
   ]
  },
  {
   "cell_type": "code",
   "execution_count": 4,
   "metadata": {},
   "outputs": [],
   "source": [
    "# Lời giải"
   ]
  },
  {
   "cell_type": "markdown",
   "metadata": {},
   "source": [
    "Hãy kiểm tra hàm này bằng cách tạo một đối tượng `System` với `lam=1/8` và `mu=1/5`."
   ]
  },
  {
   "cell_type": "code",
   "execution_count": 5,
   "metadata": {},
   "outputs": [],
   "source": [
    "# Lời giải"
   ]
  },
  {
   "cell_type": "markdown",
   "metadata": {},
   "source": [
    "Hãy viết một hàm cập nhật, hàm này nhận tham số `x`, vốn là tổng số khách trong cửa hàng, tính cả người khách đang thanh toán; `t`, số phút đã trôi qua từ khi bắt đầu mô phỏng, và `system`, vốn là đối tượng `System`.\n",
    "\n",
    "Nếu có một người khách đang thanh toán, mã lệnh cần dùng `flip` để quyết định xem họ xong chưa. Và cũng dùng `flip` để quyết định xem có người khách nào mới đến không.\n",
    "\n",
    "Hàm cần trả lại tổng số khách hàng ở cuối bước thời gian."
   ]
  },
  {
   "cell_type": "code",
   "execution_count": 6,
   "metadata": {},
   "outputs": [],
   "source": [
    "# Lời giải"
   ]
  },
  {
   "cell_type": "markdown",
   "metadata": {},
   "source": [
    "Hãy kiểm tra hàm này bằng cách gọi nó với `x=1`, `t=0`, và đối tượng `System` bạn vừa tạo. Nếu chạy nó vài lần, bạn sẽ phải thấy các kết quả khác nhau."
   ]
  },
  {
   "cell_type": "code",
   "execution_count": 7,
   "metadata": {},
   "outputs": [],
   "source": [
    "# Lời giải"
   ]
  },
  {
   "cell_type": "markdown",
   "metadata": {},
   "source": [
    "Bây giờ ta có thể chạy mô phỏng. Dưới đây là một phiên bản `run_simulation` tạo ra một `TimeSeries` với tổng số khách trong cửa hàng, kể cả người đang thanh toán."
   ]
  },
  {
   "cell_type": "code",
   "execution_count": 8,
   "metadata": {},
   "outputs": [],
   "source": [
    "def run_simulation(system, update_func):\n",
    "    \"\"\"Mô phỏng hệ thống hàng đợi.\n",
    "    \n",
    "    system: đối tượng System\n",
    "    update_func: đối tượng hàm\n",
    "    \"\"\"\n",
    "    x = 0\n",
    "    results = TimeSeries()\n",
    "    results[0] = x\n",
    "    \n",
    "    for t in linrange(0, system.duration):\n",
    "        x = update_func(x, t, system)\n",
    "        results[t+1] = x\n",
    "\n",
    "    return results"
   ]
  },
  {
   "cell_type": "markdown",
   "metadata": {},
   "source": [
    "Hãy gọi `run_simulation` với hàm cập nhật bạn vừa viết và vẽ đồ thị kết quả."
   ]
  },
  {
   "cell_type": "code",
   "execution_count": 9,
   "metadata": {},
   "outputs": [],
   "source": [
    "# Lời giải"
   ]
  },
  {
   "cell_type": "markdown",
   "metadata": {},
   "source": [
    "Sau mô phỏng này, ta có thể tính `L`, tức là số khách hàng trung bình trong hệ thống, và `W`, thời gian trung bình người khách ở trong cửa hàng. `L` và `W` được liên hệ bởi định luật Little:\n",
    "\n",
    "$L = \\lambda W$\n",
    "\n",
    "trong đó $\\lambda$ là độ thường xuyên khách đến. Dưới đây là một hàm để tính `L` và `W`."
   ]
  },
  {
   "cell_type": "code",
   "execution_count": 10,
   "metadata": {},
   "outputs": [],
   "source": [
    "def compute_metrics(results, system):\n",
    "    \"\"\"Tính số khách và thời gian đợi trung bình.\n",
    "    \n",
    "    results: một chuỗi thời gian (TimeSeries) của chiều dài hàng đợi\n",
    "    system: đối tượng System\n",
    "    \n",
    "    returns: L, W\n",
    "    \"\"\"\n",
    "    L = results.mean()\n",
    "    W = L / system.lam\n",
    "    return L, W"
   ]
  },
  {
   "cell_type": "markdown",
   "metadata": {},
   "source": [
    "Hãy gọi `compute_metrics` với các kết quả từ mô phỏng của bạn."
   ]
  },
  {
   "cell_type": "code",
   "execution_count": 11,
   "metadata": {},
   "outputs": [],
   "source": [
    "# Lời giải"
   ]
  },
  {
   "cell_type": "markdown",
   "metadata": {},
   "source": [
    "### Quét tham số\n",
    "\n",
    "Vì không biết giá trị thật của $\\lambda$, ta có thể quét qua một khoảng các khả năng, từ 10% đến 80% của tốc độ hoàn thành, $\\mu$.  (Nếu khách đến nhanh/thường xuyên hơn là tốc độ hoàn thành thì hàng đợi cứ kéo dài mãi không có giới hạn. Trong trường hợp đó `L` và `W` chỉ tùy thuộc cửa hàng mở cửa bao lâu.)\n",
    "\n",
    "Hãy tạo một mảng các giá trị cho `lam`."
   ]
  },
  {
   "cell_type": "code",
   "execution_count": 12,
   "metadata": {},
   "outputs": [],
   "source": [
    "# Lời giải"
   ]
  },
  {
   "cell_type": "markdown",
   "metadata": {},
   "source": [
    "Hãy viết một hàm nhận vào một mảng các giá trị của `lam`, một giá trị của `mu`, và một hàm cập nhật.\n",
    "\n",
    "Với từng giá trị của `lam`, hàm này phải chạy mô phỏng, tính ra `L` và `W`, rồi lưu giá trị của `W` vào một dãy `SweepSeries`.\n",
    "\n",
    "Hàm cần trả lại `SweepSeries`."
   ]
  },
  {
   "cell_type": "code",
   "execution_count": 13,
   "metadata": {},
   "outputs": [],
   "source": [
    "# Lời giải"
   ]
  },
  {
   "cell_type": "markdown",
   "metadata": {},
   "source": [
    "Hãy gọi hàm bạn vừa viết để tạo một `SweepSeries`, rồi vẽ biểu đồ của nó."
   ]
  },
  {
   "cell_type": "code",
   "execution_count": 14,
   "metadata": {},
   "outputs": [],
   "source": [
    "# Lời giải"
   ]
  },
  {
   "cell_type": "code",
   "execution_count": 15,
   "metadata": {},
   "outputs": [],
   "source": [
    "# Lời giải"
   ]
  },
  {
   "cell_type": "markdown",
   "metadata": {},
   "source": [
    "Nếu tưởng tượng rằng khoảng giá trị này biểu diễn cho mức thường xuyên vào các ngày khác nhau, ta có thể dùng giá trị trung bình của `W`, cho một dãy các giá trị của `lam`, để so sánh các chiến lược xếp hàng khác nhau."
   ]
  },
  {
   "cell_type": "code",
   "execution_count": 16,
   "metadata": {},
   "outputs": [],
   "source": [
    "# Lời giải"
   ]
  },
  {
   "cell_type": "markdown",
   "metadata": {},
   "source": [
    "### Phân tích\n",
    "\n",
    "Với hệ thống này tôi đã chọn một mô hình thông dụng trong lý thuyết hàng đợi, phần là vì ta có thể dùng phép toán để suy ra các thuộc tính mô hình.\n",
    "\n",
    "Cụ thể, ta có thể lập được thời gian trung bình trong quầy như một hàm số theo $\\mu$ và $\\lambda$:\n",
    "\n",
    "$W = 1 / (\\mu - \\lambda)$\n",
    "\n",
    "Hàm sau đây vẽ đồ thị của $W$ theo $\\lambda$."
   ]
  },
  {
   "cell_type": "code",
   "execution_count": 19,
   "metadata": {},
   "outputs": [],
   "source": [
    "def plot_W(lam_array, mu):\n",
    "    \"\"\"Vẽ đồ thị thời gian đợi trung bình theo lý thuyết\n",
    "    \n",
    "    lam_array: mảng giá trị của `lam`\n",
    "    mu: xác suất thanh toán xong\n",
    "    \"\"\"\n",
    "    W_array = 1 / (mu - lam_array)\n",
    "    W_series = make_series(lam_array, W_array)\n",
    "    W_series.plot(style='-', label='analysis')"
   ]
  },
  {
   "cell_type": "markdown",
   "metadata": {},
   "source": [
    "Hãy dùng hàm này để vẽ biểu đồ kết quả lý thuyết, sau đó trên cùng biểu đồ hãy vẽ chồng lên kết quả mô phỏng của bạn. So sánh hai kết quả này?"
   ]
  },
  {
   "cell_type": "code",
   "execution_count": 23,
   "metadata": {},
   "outputs": [],
   "source": [
    "# Lời giải"
   ]
  },
  {
   "cell_type": "markdown",
   "metadata": {},
   "source": [
    "## Nhiều quầy phục vụ\n",
    "\n",
    "Bây giờ hãy thử hai chiến lược xếp hàng khác:\n",
    "\n",
    "1.  Một hàng với hai quầy thanh toán.\n",
    "2.  Hai hàng, mỗi hàng có một quầy thanh toán.\n",
    "\n",
    "Hình vẽ dưới đây cho thấy cả 3 kịch bản:\n",
    "\n",
    "![](https://github.com/AllenDowney/ModSim/raw/main/figs/queue.png)\n",
    "\n",
    "Hãy viết một hàm cập nhật cho trường hợp một hàng 2 quầy thanh toán."
   ]
  },
  {
   "cell_type": "code",
   "execution_count": 24,
   "metadata": {},
   "outputs": [],
   "source": [
    "# Lời giải"
   ]
  },
  {
   "cell_type": "markdown",
   "metadata": {},
   "source": [
    "Dùng hàm cập nhật này để mô phỏng hệ thống, vẽ biểu đồ kết quả và in ra các metric."
   ]
  },
  {
   "cell_type": "code",
   "execution_count": 26,
   "metadata": {},
   "outputs": [],
   "source": [
    "# Lời giải"
   ]
  },
  {
   "cell_type": "markdown",
   "metadata": {},
   "source": [
    "Vì bây giờ ta có 2 quầy thanh toán rồi, nên có thể xét đến các giá trị $\\lambda$ vượt quá $\\mu$.\n",
    "\n",
    "Hãy tạo một mảng giá trị mới cho `lam` từ 10% đến 160% của `mu`."
   ]
  },
  {
   "cell_type": "code",
   "execution_count": 27,
   "metadata": {},
   "outputs": [],
   "source": [
    "# Lời giải"
   ]
  },
  {
   "cell_type": "markdown",
   "metadata": {},
   "source": [
    "Hãy dùng hàm quét vừa viết để mô phỏng kịch bản 2 quầy phục vụ, một hàng đợi với một loạt các giá trị của `lam`.\n",
    "\n",
    "Vẽ biểu đồ kết quả và in giá trị trung bình của `W` ứng với tất cả giá trị của `lam`."
   ]
  },
  {
   "cell_type": "code",
   "execution_count": 28,
   "metadata": {},
   "outputs": [],
   "source": [
    "# Lời giải"
   ]
  },
  {
   "cell_type": "code",
   "execution_count": 29,
   "metadata": {},
   "outputs": [],
   "source": [
    "# Lời giải"
   ]
  },
  {
   "cell_type": "markdown",
   "metadata": {},
   "source": [
    "## Nhiều hàng đợi\n",
    "\n",
    "Để mô phỏng kịch bản với hai hàng đợi riêng, ta cần hai biến trạng thái để theo dõi số khách trong mỗi hàng.\n",
    "\n",
    "Hãy viết một hàm cập nhật nhận vào các tham số `x1`, `x2`, `t`, `system` rồi trả lại các giá trị `x1` và `x2`. Nếu bạn không rõ cách trả lại nhiều giá trị, hãy xem `compute_metrics`.\n",
    "\n",
    "Khi có khách đến xếp hàng, người đó sẽ chọn hàng nào?"
   ]
  },
  {
   "cell_type": "code",
   "execution_count": 30,
   "metadata": {},
   "outputs": [],
   "source": [
    "# Lời giải"
   ]
  },
  {
   "cell_type": "markdown",
   "metadata": {},
   "source": [
    "Hãy viết một phiên bản của `run_simulation` để làm việc với hàm cập nhật này."
   ]
  },
  {
   "cell_type": "code",
   "execution_count": 31,
   "metadata": {},
   "outputs": [],
   "source": [
    "# Lời giải"
   ]
  },
  {
   "cell_type": "markdown",
   "metadata": {},
   "source": [
    "Kiểm tra hàm vừa viết bằng cách chạy mô phỏng với một giá trị của `lam`."
   ]
  },
  {
   "cell_type": "code",
   "execution_count": 32,
   "metadata": {},
   "outputs": [],
   "source": [
    "# Lời giải"
   ]
  },
  {
   "cell_type": "markdown",
   "metadata": {},
   "source": [
    "Hãy quét một khoảng giá trị của `lam`, vẽ biểu đồ kết quả, rồi in ra thời gian đợi trung bình ứng với tất cả các giá trị `lam`.\n",
    "\n",
    "Kết quả này thế nào so với kịch bản hai quầy và một hàng đợi?"
   ]
  },
  {
   "cell_type": "code",
   "execution_count": 33,
   "metadata": {},
   "outputs": [],
   "source": [
    "# Lời giải"
   ]
  },
  {
   "cell_type": "code",
   "execution_count": 34,
   "metadata": {},
   "outputs": [],
   "source": [
    "# Lời giải"
   ]
  },
  {
   "cell_type": "code",
   "execution_count": 27,
   "metadata": {},
   "outputs": [],
   "source": [
    "# Lời giải"
   ]
  },
  {
   "cell_type": "code",
   "execution_count": null,
   "metadata": {},
   "outputs": [],
   "source": []
  }
 ],
 "metadata": {
  "kernelspec": {
   "display_name": "Python 3",
   "language": "python",
   "name": "python3"
  },
  "language_info": {
   "codemirror_mode": {
    "name": "ipython",
    "version": 3
   },
   "file_extension": ".py",
   "mimetype": "text/x-python",
   "name": "python",
   "nbconvert_exporter": "python",
   "pygments_lexer": "ipython3",
   "version": "3.9.1"
  }
 },
 "nbformat": 4,
 "nbformat_minor": 2
}
