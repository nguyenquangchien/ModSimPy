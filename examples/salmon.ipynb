{
 "cells": [
  {
   "cell_type": "markdown",
   "metadata": {},
   "source": [
    "# Bài toán cá hồi"
   ]
  },
  {
   "cell_type": "markdown",
   "metadata": {},
   "source": [
    "*Mô hình hóa và mô phỏng bằng Python*\n",
    "\n",
    "Bản quyền 2021 Allen Downey\n",
    "\n",
    "Giấy phép: [Creative Commons Attribution-NonCommercial-ShareAlike 4.0 International](https://creativecommons.org/licenses/by-nc-sa/4.0/)"
   ]
  },
  {
   "cell_type": "code",
   "execution_count": 1,
   "metadata": {
    "tags": []
   },
   "outputs": [],
   "source": [
    "# cài đặt Pint nếu cần\n",
    "\n",
    "try:\n",
    "    import pint\n",
    "except ImportError:\n",
    "    !pip install pint"
   ]
  },
  {
   "cell_type": "code",
   "execution_count": 2,
   "metadata": {
    "tags": []
   },
   "outputs": [],
   "source": [
    "# tải về modsim.py nếu cần\n",
    "\n",
    "from os.path import exists\n",
    "\n",
    "filename = 'modsim.py'\n",
    "if not exists(filename):\n",
    "    from urllib.request import urlretrieve\n",
    "    url = 'https://raw.githubusercontent.com/AllenDowney/ModSim/main/'\n",
    "    local, _ = urlretrieve(url+filename, filename)\n",
    "    print('Downloaded ' + local)"
   ]
  },
  {
   "cell_type": "code",
   "execution_count": 3,
   "metadata": {
    "tags": []
   },
   "outputs": [],
   "source": [
    "# import functions from modsim\n",
    "\n",
    "from modsim import *"
   ]
  },
  {
   "cell_type": "markdown",
   "metadata": {},
   "source": [
    "## Can we predict salmon populations?\n",
    "\n",
    "Hàng năm, [Ủy ban đánh giá cá hồi Đại Tây Dương của Hoa Kỳ](https://www.nefsc.noaa.gov/USASAC/Reports/USASAC2018-Report-30-2017-Activities.pdf) đều báo cáo con số ước tính số cá hồi trên biển và trong sông ở Đông bắc Hoa Kỳ. Những báo cáo này rất hữu ích để giám sát những thay đổi về số lượng cá, nhưng nói chung không bao gồm các con số dự đoán.\n",
    "\n",
    "Mục tiêu của nghiên cứu cụ thể này nhằm mô phỏng thay đổi hằng năm của số cá hồi, đánh giá xem những thay đổi này có dễ dự đoán không, và ước tính xác suất để một số cá cụ thể sẽ tăng hay giảm trong vòng 10 năm tới.\n",
    "\n",
    "Lấy ví dụ, tôi dùng dữ liệu từ trang 18 của cuốn báo cáo năm 2017, vốn cung cấp những số cá ước tính cho các dòng sông Narraguagus và Sheepscot ở bang Maine.\n",
    "\n",
    "![USASAC_Report_2017_Page18](https://github.com/AllenDowney/ModSim/raw/main/data/USASAC_Report_2017_Page18.png)\n",
    "\n",
    "Có những công cụ để tự động kết xuất dữ liệu từ một tài liệu PDF, nhưng ở ví dụ này tôi sẽ đơn giản là tự gõ mã lệnh.\n",
    "\n",
    "Đây là những ước tính số cá hồi cho dòng sông Narraguagus:"
   ]
  },
  {
   "cell_type": "code",
   "execution_count": 4,
   "metadata": {},
   "outputs": [],
   "source": [
    "pops = [2749, 2845, 4247, 1843, 2562, 1774, 1201, 1284, 1287, \n",
    "        2339, 1177, 962, 1176, 2149, 1404, 969, 1237, 1615, 1201]"
   ]
  },
  {
   "cell_type": "markdown",
   "metadata": {},
   "source": [
    "Để lấy được dữ liệu này vào một dãy Series trong Pandas, tôi cũng sẽ lập một dãy các năm để dùng làm chỉ số."
   ]
  },
  {
   "cell_type": "code",
   "execution_count": 10,
   "metadata": {},
   "outputs": [],
   "source": [
    "years = linrange(1997, 2015)\n",
    "years"
   ]
  },
  {
   "cell_type": "markdown",
   "metadata": {},
   "source": [
    "Và đây là dãy số liệu."
   ]
  },
  {
   "cell_type": "code",
   "execution_count": 24,
   "metadata": {},
   "outputs": [],
   "source": [
    "pop_series = TimeSeries(pops, index=years)\n",
    "pop_series"
   ]
  },
  {
   "cell_type": "markdown",
   "metadata": {},
   "source": [
    "Đây là những gì kết quả:"
   ]
  },
  {
   "cell_type": "code",
   "execution_count": 14,
   "metadata": {},
   "outputs": [],
   "source": [
    "def plot_population(series):\n",
    "    series.plot(label='Số cá ước tính')\n",
    "    decorate(xlabel='Năm', \n",
    "             ylabel='Số cá hồi ước tính', \n",
    "             title='Sông Narraguacus',\n",
    "             ylim=[0, 5000])\n",
    "    \n",
    "plot_population(pop_series)"
   ]
  },
  {
   "cell_type": "markdown",
   "metadata": {},
   "source": [
    "## Mô hình hóa những thay đổi\n",
    "\n",
    "Để thấy số cá hồi thay đổi thế nào qua các năm, tôi sẽ dùng `diff` để tính trị tuyệt đối hiệu số giữa hai năm kế tiếp.\n"
   ]
  },
  {
   "cell_type": "code",
   "execution_count": 25,
   "metadata": {},
   "outputs": [],
   "source": [
    "abs_diffs = pop_series.diff()\n",
    "abs_diffs"
   ]
  },
  {
   "cell_type": "markdown",
   "metadata": {},
   "source": [
    "Ta có thể tính hiệu số tương đối bằng cách đem chia dãy số gốc cho từng phần tử."
   ]
  },
  {
   "cell_type": "code",
   "execution_count": 26,
   "metadata": {},
   "outputs": [],
   "source": [
    "rel_diffs = abs_diffs / pop_series\n",
    "rel_diffs"
   ]
  },
  {
   "cell_type": "markdown",
   "metadata": {},
   "source": [
    "Những hiệu số tương đối này là tốc độ tăng trưởng ròng quan sát được hàng năm. Bởi vậy ta hãy xóa số `0` rồi lưu chúng lại."
   ]
  },
  {
   "cell_type": "code",
   "execution_count": 27,
   "metadata": {},
   "outputs": [],
   "source": [
    "rates = rel_diffs.dropna()\n",
    "rates"
   ]
  },
  {
   "cell_type": "markdown",
   "metadata": {},
   "source": [
    "Một cách đơn giản để mô hình hóa hệ thống này là rút một giá trị ngẫu nhiên từ dãy số mức tăng trưởng hằng năm quan sát được này. Ta có thể dùng hàm `choice` của NumPy để lựa chọn ngẫu nhiên từ một dãy số."
   ]
  },
  {
   "cell_type": "code",
   "execution_count": 28,
   "metadata": {},
   "outputs": [],
   "source": [
    "np.random.choice(rates)"
   ]
  },
  {
   "cell_type": "markdown",
   "metadata": {},
   "source": [
    "## Mô phỏng\n",
    "\n",
    "Bây giờ ta có thể mô phỏng hệ thống bằng cách rút ra những trị số tăng trưởng ngẫu nhien từ các trị số quan sát được.\n",
    "\n",
    "Tôi sẽ bắt đầu mô phỏng cho năm 2015."
   ]
  },
  {
   "cell_type": "code",
   "execution_count": 29,
   "metadata": {},
   "outputs": [],
   "source": [
    "t_0 = 2015\n",
    "p_0 = pop_series[t_0]"
   ]
  },
  {
   "cell_type": "markdown",
   "metadata": {},
   "source": [
    "Tôi sẽ tạo một đối tượng `System` với các biến `t_0`, `p_0`, `rates`, và `duration=10` năm. \n",
    "\n",
    "Dãy số tăng trưởng quan sát thấy chính là tham số quan trọng của mô hình."
   ]
  },
  {
   "cell_type": "code",
   "execution_count": 30,
   "metadata": {},
   "outputs": [],
   "source": [
    "system = System(t_0=t_0,\n",
    "                p_0=p_0,\n",
    "                duration=10,\n",
    "                rates=rates)"
   ]
  },
  {
   "cell_type": "markdown",
   "metadata": {},
   "source": [
    "Hãy viết một hàm cập nhật để nhận vào các tham số `pop`, `t`, và `system`.\n",
    "Nó phải chọn được một suất tăng trưởng ngẫu nhiên, tính ra mức thay đổi số cá hồi, và trả lại số cá mới."
   ]
  },
  {
   "cell_type": "code",
   "execution_count": 31,
   "metadata": {},
   "outputs": [],
   "source": [
    "# Lời giải"
   ]
  },
  {
   "cell_type": "markdown",
   "metadata": {},
   "source": [
    "Kiểm thử hàm cập nhật mà bạn viết và chạy nó vài lần"
   ]
  },
  {
   "cell_type": "code",
   "execution_count": 32,
   "metadata": {},
   "outputs": [],
   "source": [
    "update_func1(p_0, t_0, system)"
   ]
  },
  {
   "cell_type": "markdown",
   "metadata": {},
   "source": [
    "Đây là một phiên bản `run_simulation` có lưu kết quả trong một `TimeSeries` rồi trả lại nó."
   ]
  },
  {
   "cell_type": "code",
   "execution_count": 33,
   "metadata": {},
   "outputs": [],
   "source": [
    "def run_simulation(system, update_func):\n",
    "    \"\"\"Mô phỏng một hệ thống hàng đợi.\n",
    "    \n",
    "    system: đối tượng System\n",
    "    update_func: đối tượng hàm\n",
    "    \"\"\"\n",
    "    t_0 = system.t_0\n",
    "    t_end = t_0 + system.duration\n",
    "    \n",
    "    results = TimeSeries()\n",
    "    results[t_0] = system.p_0\n",
    "    \n",
    "    for t in linrange(t_0, t_end):\n",
    "        results[t+1] = update_func(results[t], t, system)\n",
    "\n",
    "    return results"
   ]
  },
  {
   "cell_type": "markdown",
   "metadata": {},
   "source": [
    "Dùng `run_simulation` để chạy phát sinh một con số dự tính cho 10 năm tới.\n",
    "\n",
    "Biểu đồ thể hiện dự đoán so với số liệu gốc. Dự đoán của bạn bắt đầu từ chỗ mà dữ liệu kết thúc."
   ]
  },
  {
   "cell_type": "code",
   "execution_count": 35,
   "metadata": {},
   "outputs": [],
   "source": [
    "# Lời giải"
   ]
  },
  {
   "cell_type": "markdown",
   "metadata": {},
   "source": [
    "Để hình dung được kết quả thay đổi ở mức độ nào, ta có thể chạy mô hình vài lần và vẽ đồ thị tất cả kết quả."
   ]
  },
  {
   "cell_type": "code",
   "execution_count": 42,
   "metadata": {},
   "outputs": [],
   "source": [
    "def plot_many_simulations(system, update_func, iters):\n",
    "    \"\"\"Chạy mô phỏng và vẽ đồ thị kết quả.\n",
    "    \n",
    "    system: đối tượng System\n",
    "    update_func: đối tượng hàm\n",
    "    iters: số lần chạy mô phỏng\n",
    "    \"\"\"\n",
    "    for i in range(iters):\n",
    "        results = run_simulation(system, update_func)\n",
    "        results.plot(color='gray', label='_nolegend', \n",
    "                     linewidth=1, alpha=0.3)"
   ]
  },
  {
   "cell_type": "markdown",
   "metadata": {},
   "source": [
    "Tùy chọn đồ thị `alpha=0.1` khiến cho các đường nét một phần trong suốt, nhờ vậy khi chồng lên nhau nét vẽ sẽ đậm hơn.\n",
    "\n",
    "Chạy `plot_many_simulations` với hàm cập nhật bạn viết và `iters=30`.  Cũng vẽ luôn số liệu gốc."
   ]
  },
  {
   "cell_type": "code",
   "execution_count": 43,
   "metadata": {},
   "outputs": [],
   "source": [
    "# Lời giải"
   ]
  },
  {
   "cell_type": "markdown",
   "metadata": {},
   "source": [
    "Các kết quả biến động mạnh mẽ: theo mô hình này, số cá hồi có thể tiếp tục giảm trong 10 năm tới, hoặc có thể hồi phục và tăng nhanh!\n",
    "\n",
    "Thật khó nói ta có thể tin tưởng mô hinh này đến đâu. Có nhiều yếu tố ảnh hưởng đến số cá hồi mà không được đề cập tới trong mô hình. Chẳng hạn, nếu số cá bắt đâu tăng nhanh, nó có thể bị hạn chế bởi các giới hạn tài nguyên, các loài ăn thịt, hay sự đánh bắt cá. Nếu số cá bắt đầu giảm, người ta có thể hạn chế đánh bắt cá và dồn các con cá được nuôi vào cho sông.\n",
    "\n",
    "Bởi vậy những kết quả này có thể chưa được coi rằng những dự đoán hữu ích. Tuy nhiên, còn có điều hữu ích mà ta có thể làm, đó là ước tính xác suất để số cá hồi sẽ tăng hoặc giảm trong 10 năm tới.  "
   ]
  },
  {
   "cell_type": "markdown",
   "metadata": {},
   "source": [
    "## Phân bố của mức biến đổi tịnh\n",
    "\n",
    "Để mô tả sự phân bố của những biến đổi tịnh, hãy viết một hàm có tên `run_many_simulations` để chạy nhiều mô phỏng, lưu lại số cá hồi cuối cùng vào một `ModSimSeries`, rồi trả lại `ModSimSeries` đó.\n"
   ]
  },
  {
   "cell_type": "code",
   "execution_count": 45,
   "metadata": {},
   "outputs": [],
   "source": [
    "def run_many_simulations(system, update_func, iters):\n",
    "    \"\"\"Chạy mô phỏng và báo lại số cá cuối cùng.\n",
    "    \n",
    "    system: đối tượng System\n",
    "    update_func: đối tượng hàm\n",
    "    iters: số lần chạy mô phỏng\n",
    "    \n",
    "    trả lại: một dãy các số cá cuối cùng\n",
    "    \"\"\"\n",
    "    # ĐIỀN MÃ LỆNH VÀO"
   ]
  },
  {
   "cell_type": "code",
   "execution_count": 50,
   "metadata": {},
   "outputs": [],
   "source": [
    "# Lời giải"
   ]
  },
  {
   "cell_type": "markdown",
   "metadata": {},
   "source": [
    "Kiểm thử hàm bạn viết bằng cách chạy nó với `iters=5`."
   ]
  },
  {
   "cell_type": "code",
   "execution_count": 51,
   "metadata": {},
   "outputs": [],
   "source": [
    "run_many_simulations(system, update_func1, 5)"
   ]
  },
  {
   "cell_type": "markdown",
   "metadata": {},
   "source": [
    "Bây giờ ta có thể chạy 1000 mô phỏng và mô tả phân bố kết quả."
   ]
  },
  {
   "cell_type": "code",
   "execution_count": 52,
   "metadata": {},
   "outputs": [],
   "source": [
    "last_pops = run_many_simulations(system, update_func1, 1000)\n",
    "last_pops.describe()"
   ]
  },
  {
   "cell_type": "markdown",
   "metadata": {},
   "source": [
    "Nếu ta trừ đi số cá ban đầu, ta được phân bố các sự thay đổi."
   ]
  },
  {
   "cell_type": "code",
   "execution_count": 53,
   "metadata": {},
   "outputs": [],
   "source": [
    "net_changes = last_pops - p_0\n",
    "net_changes.describe()"
   ]
  },
  {
   "cell_type": "markdown",
   "metadata": {},
   "source": [
    "Số trung vị là một số âm, vốn cho thấy rằng dân số bị giảm thường xuyên hơn là tăng.\n",
    "\n",
    "Ta có thể cụ thể hơn bằng cách đếm số lần liên tiếp mà `net_changes` là dương."
   ]
  },
  {
   "cell_type": "code",
   "execution_count": 54,
   "metadata": {},
   "outputs": [],
   "source": [
    "np.sum(net_changes > 0)"
   ]
  },
  {
   "cell_type": "markdown",
   "metadata": {},
   "source": [
    "Hoặc ta có thể dùng `mean` để tính tỉ lệ những lần liên tiếp mà `net_changes` là số dương."
   ]
  },
  {
   "cell_type": "code",
   "execution_count": 55,
   "metadata": {},
   "outputs": [],
   "source": [
    "np.mean(net_changes > 0)"
   ]
  },
  {
   "cell_type": "markdown",
   "metadata": {},
   "source": [
    "Và đây là tỉ lệ số lần liên tiếp âm."
   ]
  },
  {
   "cell_type": "code",
   "execution_count": 56,
   "metadata": {},
   "outputs": [],
   "source": [
    "np.mean(net_changes < 0)"
   ]
  },
  {
   "cell_type": "markdown",
   "metadata": {},
   "source": [
    "Vì vậy, dựa trên những thay đổi trong quá khứ quan sát được, mô hình này dự báo rằng số cá có nhiều khả năng giảm hơn là tăng trong 10 năm tới, với tỉ lệ khoảng 2:1."
   ]
  },
  {
   "cell_type": "markdown",
   "metadata": {},
   "source": [
    "## Mô hình tinh chỉnh\n",
    "\n",
    "Có một số cách mà ta có thể cải thiện mô hình này.\n",
    "\n",
    "1.  Có vẻ như dữ liệu quá khứ có biểu hiện tuần hoàn, với chu kì khoảng 4-5 năm. Ta có thể mở rộng mô hình để bao gồm hiệu ứng này.\n",
    "\n",
    "2.  Các dữ liệu khác, nếu so với các dữ liệu mới, có thể không liên quan bằng cho việc dự đoán; vì vậy ta sẽ đặt trọng số lớn hơn vào dữ liệu mới.\n",
    "\n",
    "Lựa chọn thứ hai dễ thực hiện hơn, vì vậy ta hãy cùng thử nó.\n",
    "\n",
    "Tôi sẽ dùng `linspace` để tạo một mảng các trọng số \"weights\" cho các độ tăng quan sát được. Xác suất mà ta chọn từng độ tăng sẽ tỉ lệ với các trọng số này.\n",
    "\n",
    "Các trọng số phải cộng lại bằng 1, vì vậy tôi chia từng độ tăng cho tổng số này."
   ]
  },
  {
   "cell_type": "code",
   "execution_count": 66,
   "metadata": {},
   "outputs": [],
   "source": [
    "weights = linspace(0, 1, len(rates))\n",
    "weights /= sum(weights)\n",
    "weights"
   ]
  },
  {
   "cell_type": "markdown",
   "metadata": {},
   "source": [
    "Tôi sẽ cộng các trọng số vào đối tượng `System`, vì chúng là các tham số của mô hình."
   ]
  },
  {
   "cell_type": "code",
   "execution_count": 59,
   "metadata": {},
   "outputs": [],
   "source": [
    "system.weights = weights"
   ]
  },
  {
   "cell_type": "markdown",
   "metadata": {},
   "source": [
    "Ta có thể truyền các trọng số này như là tham số cho `np.random.choice` (xem [tài liệu](https://docs.scipy.org/doc/numpy/reference/generated/numpy.random.choice.html))"
   ]
  },
  {
   "cell_type": "code",
   "execution_count": 60,
   "metadata": {},
   "outputs": [],
   "source": [
    "np.random.choice(system.rates, p=system.weights)"
   ]
  },
  {
   "cell_type": "markdown",
   "metadata": {},
   "source": [
    "Hãy viết một hàm cập nhật có tính đến các trọng số."
   ]
  },
  {
   "cell_type": "code",
   "execution_count": 61,
   "metadata": {},
   "outputs": [],
   "source": [
    "# Lời giải"
   ]
  },
  {
   "cell_type": "markdown",
   "metadata": {},
   "source": [
    "Dùng `plot_many_simulations` để vẽ đồ thị kết quả."
   ]
  },
  {
   "cell_type": "code",
   "execution_count": 62,
   "metadata": {},
   "outputs": [],
   "source": [
    "# Lời giải"
   ]
  },
  {
   "cell_type": "markdown",
   "metadata": {},
   "source": [
    "Hãy dùng `run_many_simulations` để thu thập kết quả và `describe` để tóm tắt sự phân bố của các mức thay đổi."
   ]
  },
  {
   "cell_type": "code",
   "execution_count": 63,
   "metadata": {},
   "outputs": [],
   "source": [
    "# Lời giải"
   ]
  },
  {
   "cell_type": "markdown",
   "metadata": {},
   "source": [
    "Liệu mô hình tinh chỉnh có nhiêu ảnh hưởng đến xác suất mà số cá hồi giảm đi?"
   ]
  },
  {
   "cell_type": "code",
   "execution_count": 64,
   "metadata": {},
   "outputs": [],
   "source": [
    "# Lời giải"
   ]
  }
 ],
 "metadata": {
  "kernelspec": {
   "display_name": "Python 3",
   "language": "python",
   "name": "python3"
  },
  "language_info": {
   "codemirror_mode": {
    "name": "ipython",
    "version": 3
   },
   "file_extension": ".py",
   "mimetype": "text/x-python",
   "name": "python",
   "nbconvert_exporter": "python",
   "pygments_lexer": "ipython3",
   "version": "3.9.1"
  }
 },
 "nbformat": 4,
 "nbformat_minor": 2
}
